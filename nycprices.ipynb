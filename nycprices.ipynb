{
 "cells": [
  {
   "cell_type": "code",
   "execution_count": 167,
   "source": [
    "import pandas as pd\r\n",
    "import numpy as np\r\n",
    "import matplotlib.pyplot as plt\r\n",
    "%matplotlib inline\r\n",
    "import seaborn as sns\r\n",
    "import warnings\r\n",
    "warnings.filterwarnings('ignore')\r\n",
    "\r\n",
    "from sklearn.model_selection import KFold\r\n",
    "from sklearn.model_selection import train_test_split \r\n",
    "from sklearn.model_selection import GridSearchCV\r\n",
    "from sklearn.preprocessing import StandardScaler\r\n",
    "\r\n",
    "from sklearn.linear_model import LinearRegression \r\n",
    "from sklearn.linear_model import Lasso\r\n",
    "from sklearn.linear_model import Ridge\r\n",
    "from sklearn.ensemble import RandomForestRegressor\r\n",
    "from sklearn.linear_model import ElasticNet\r\n",
    "\r\n",
    "\r\n",
    "from sklearn import metrics\r\n",
    "from sklearn.metrics import mean_squared_error\r\n",
    "from sklearn.metrics import mean_absolute_error\r\n",
    "from sklearn.metrics import r2_score\r\n",
    "from sklearn.model_selection import cross_val_score\r\n",
    "\r\n",
    "from scipy import stats"
   ],
   "outputs": [],
   "metadata": {}
  },
  {
   "cell_type": "code",
   "execution_count": 168,
   "source": [
    "df = pd.read_csv('C:/Users/hugod/Downloads/Dados/NYC Ap/nyc-rolling-sales.csv')\r\n",
    "df.head()"
   ],
   "outputs": [
    {
     "output_type": "execute_result",
     "data": {
      "text/html": [
       "<div>\n",
       "<style scoped>\n",
       "    .dataframe tbody tr th:only-of-type {\n",
       "        vertical-align: middle;\n",
       "    }\n",
       "\n",
       "    .dataframe tbody tr th {\n",
       "        vertical-align: top;\n",
       "    }\n",
       "\n",
       "    .dataframe thead th {\n",
       "        text-align: right;\n",
       "    }\n",
       "</style>\n",
       "<table border=\"1\" class=\"dataframe\">\n",
       "  <thead>\n",
       "    <tr style=\"text-align: right;\">\n",
       "      <th></th>\n",
       "      <th>Unnamed: 0</th>\n",
       "      <th>BOROUGH</th>\n",
       "      <th>NEIGHBORHOOD</th>\n",
       "      <th>BUILDING CLASS CATEGORY</th>\n",
       "      <th>TAX CLASS AT PRESENT</th>\n",
       "      <th>BLOCK</th>\n",
       "      <th>LOT</th>\n",
       "      <th>EASE-MENT</th>\n",
       "      <th>BUILDING CLASS AT PRESENT</th>\n",
       "      <th>ADDRESS</th>\n",
       "      <th>...</th>\n",
       "      <th>RESIDENTIAL UNITS</th>\n",
       "      <th>COMMERCIAL UNITS</th>\n",
       "      <th>TOTAL UNITS</th>\n",
       "      <th>LAND SQUARE FEET</th>\n",
       "      <th>GROSS SQUARE FEET</th>\n",
       "      <th>YEAR BUILT</th>\n",
       "      <th>TAX CLASS AT TIME OF SALE</th>\n",
       "      <th>BUILDING CLASS AT TIME OF SALE</th>\n",
       "      <th>SALE PRICE</th>\n",
       "      <th>SALE DATE</th>\n",
       "    </tr>\n",
       "  </thead>\n",
       "  <tbody>\n",
       "    <tr>\n",
       "      <th>0</th>\n",
       "      <td>4</td>\n",
       "      <td>1</td>\n",
       "      <td>ALPHABET CITY</td>\n",
       "      <td>07 RENTALS - WALKUP APARTMENTS</td>\n",
       "      <td>2A</td>\n",
       "      <td>392</td>\n",
       "      <td>6</td>\n",
       "      <td></td>\n",
       "      <td>C2</td>\n",
       "      <td>153 AVENUE B</td>\n",
       "      <td>...</td>\n",
       "      <td>5</td>\n",
       "      <td>0</td>\n",
       "      <td>5</td>\n",
       "      <td>1633</td>\n",
       "      <td>6440</td>\n",
       "      <td>1900</td>\n",
       "      <td>2</td>\n",
       "      <td>C2</td>\n",
       "      <td>6625000</td>\n",
       "      <td>2017-07-19 00:00:00</td>\n",
       "    </tr>\n",
       "    <tr>\n",
       "      <th>1</th>\n",
       "      <td>5</td>\n",
       "      <td>1</td>\n",
       "      <td>ALPHABET CITY</td>\n",
       "      <td>07 RENTALS - WALKUP APARTMENTS</td>\n",
       "      <td>2</td>\n",
       "      <td>399</td>\n",
       "      <td>26</td>\n",
       "      <td></td>\n",
       "      <td>C7</td>\n",
       "      <td>234 EAST 4TH   STREET</td>\n",
       "      <td>...</td>\n",
       "      <td>28</td>\n",
       "      <td>3</td>\n",
       "      <td>31</td>\n",
       "      <td>4616</td>\n",
       "      <td>18690</td>\n",
       "      <td>1900</td>\n",
       "      <td>2</td>\n",
       "      <td>C7</td>\n",
       "      <td>-</td>\n",
       "      <td>2016-12-14 00:00:00</td>\n",
       "    </tr>\n",
       "    <tr>\n",
       "      <th>2</th>\n",
       "      <td>6</td>\n",
       "      <td>1</td>\n",
       "      <td>ALPHABET CITY</td>\n",
       "      <td>07 RENTALS - WALKUP APARTMENTS</td>\n",
       "      <td>2</td>\n",
       "      <td>399</td>\n",
       "      <td>39</td>\n",
       "      <td></td>\n",
       "      <td>C7</td>\n",
       "      <td>197 EAST 3RD   STREET</td>\n",
       "      <td>...</td>\n",
       "      <td>16</td>\n",
       "      <td>1</td>\n",
       "      <td>17</td>\n",
       "      <td>2212</td>\n",
       "      <td>7803</td>\n",
       "      <td>1900</td>\n",
       "      <td>2</td>\n",
       "      <td>C7</td>\n",
       "      <td>-</td>\n",
       "      <td>2016-12-09 00:00:00</td>\n",
       "    </tr>\n",
       "    <tr>\n",
       "      <th>3</th>\n",
       "      <td>7</td>\n",
       "      <td>1</td>\n",
       "      <td>ALPHABET CITY</td>\n",
       "      <td>07 RENTALS - WALKUP APARTMENTS</td>\n",
       "      <td>2B</td>\n",
       "      <td>402</td>\n",
       "      <td>21</td>\n",
       "      <td></td>\n",
       "      <td>C4</td>\n",
       "      <td>154 EAST 7TH STREET</td>\n",
       "      <td>...</td>\n",
       "      <td>10</td>\n",
       "      <td>0</td>\n",
       "      <td>10</td>\n",
       "      <td>2272</td>\n",
       "      <td>6794</td>\n",
       "      <td>1913</td>\n",
       "      <td>2</td>\n",
       "      <td>C4</td>\n",
       "      <td>3936272</td>\n",
       "      <td>2016-09-23 00:00:00</td>\n",
       "    </tr>\n",
       "    <tr>\n",
       "      <th>4</th>\n",
       "      <td>8</td>\n",
       "      <td>1</td>\n",
       "      <td>ALPHABET CITY</td>\n",
       "      <td>07 RENTALS - WALKUP APARTMENTS</td>\n",
       "      <td>2A</td>\n",
       "      <td>404</td>\n",
       "      <td>55</td>\n",
       "      <td></td>\n",
       "      <td>C2</td>\n",
       "      <td>301 EAST 10TH   STREET</td>\n",
       "      <td>...</td>\n",
       "      <td>6</td>\n",
       "      <td>0</td>\n",
       "      <td>6</td>\n",
       "      <td>2369</td>\n",
       "      <td>4615</td>\n",
       "      <td>1900</td>\n",
       "      <td>2</td>\n",
       "      <td>C2</td>\n",
       "      <td>8000000</td>\n",
       "      <td>2016-11-17 00:00:00</td>\n",
       "    </tr>\n",
       "  </tbody>\n",
       "</table>\n",
       "<p>5 rows × 22 columns</p>\n",
       "</div>"
      ],
      "text/plain": [
       "   Unnamed: 0  BOROUGH   NEIGHBORHOOD  \\\n",
       "0           4        1  ALPHABET CITY   \n",
       "1           5        1  ALPHABET CITY   \n",
       "2           6        1  ALPHABET CITY   \n",
       "3           7        1  ALPHABET CITY   \n",
       "4           8        1  ALPHABET CITY   \n",
       "\n",
       "                       BUILDING CLASS CATEGORY TAX CLASS AT PRESENT  BLOCK  \\\n",
       "0  07 RENTALS - WALKUP APARTMENTS                                2A    392   \n",
       "1  07 RENTALS - WALKUP APARTMENTS                                 2    399   \n",
       "2  07 RENTALS - WALKUP APARTMENTS                                 2    399   \n",
       "3  07 RENTALS - WALKUP APARTMENTS                                2B    402   \n",
       "4  07 RENTALS - WALKUP APARTMENTS                                2A    404   \n",
       "\n",
       "   LOT EASE-MENT BUILDING CLASS AT PRESENT                 ADDRESS  ...  \\\n",
       "0    6                                  C2            153 AVENUE B  ...   \n",
       "1   26                                  C7   234 EAST 4TH   STREET  ...   \n",
       "2   39                                  C7   197 EAST 3RD   STREET  ...   \n",
       "3   21                                  C4     154 EAST 7TH STREET  ...   \n",
       "4   55                                  C2  301 EAST 10TH   STREET  ...   \n",
       "\n",
       "  RESIDENTIAL UNITS  COMMERCIAL UNITS  TOTAL UNITS  LAND SQUARE FEET  \\\n",
       "0                 5                 0            5              1633   \n",
       "1                28                 3           31              4616   \n",
       "2                16                 1           17              2212   \n",
       "3                10                 0           10              2272   \n",
       "4                 6                 0            6              2369   \n",
       "\n",
       "   GROSS SQUARE FEET YEAR BUILT TAX CLASS AT TIME OF SALE  \\\n",
       "0               6440       1900                         2   \n",
       "1              18690       1900                         2   \n",
       "2               7803       1900                         2   \n",
       "3               6794       1913                         2   \n",
       "4               4615       1900                         2   \n",
       "\n",
       "   BUILDING CLASS AT TIME OF SALE  SALE PRICE            SALE DATE  \n",
       "0                              C2     6625000  2017-07-19 00:00:00  \n",
       "1                              C7         -    2016-12-14 00:00:00  \n",
       "2                              C7         -    2016-12-09 00:00:00  \n",
       "3                              C4     3936272  2016-09-23 00:00:00  \n",
       "4                              C2     8000000  2016-11-17 00:00:00  \n",
       "\n",
       "[5 rows x 22 columns]"
      ]
     },
     "metadata": {},
     "execution_count": 168
    }
   ],
   "metadata": {}
  },
  {
   "cell_type": "code",
   "execution_count": 169,
   "source": [
    "#Dropping columns that won't will help us to create our prediction model\r\n",
    "del df['EASE-MENT']\r\n",
    "del df['Unnamed: 0']\r\n",
    "del df['SALE DATE']"
   ],
   "outputs": [],
   "metadata": {}
  },
  {
   "cell_type": "code",
   "execution_count": 170,
   "source": [
    "#Checking for duplicated entries, avoiding add noise to the model\r\n",
    "sum(df.duplicated(df.columns))"
   ],
   "outputs": [
    {
     "output_type": "execute_result",
     "data": {
      "text/plain": [
       "1358"
      ]
     },
     "metadata": {},
     "execution_count": 170
    }
   ],
   "metadata": {}
  },
  {
   "cell_type": "code",
   "execution_count": 171,
   "source": [
    "#Checking again for duplicated entries, avoiding add noise to the model\r\n",
    "df = df.drop_duplicates(df.columns, keep='last')\r\n",
    "sum(df.duplicated(df.columns))"
   ],
   "outputs": [
    {
     "output_type": "execute_result",
     "data": {
      "text/plain": [
       "0"
      ]
     },
     "metadata": {},
     "execution_count": 171
    }
   ],
   "metadata": {}
  },
  {
   "cell_type": "code",
   "execution_count": 172,
   "source": [
    "df.shape\r\n",
    "df.info()"
   ],
   "outputs": [
    {
     "output_type": "stream",
     "name": "stdout",
     "text": [
      "<class 'pandas.core.frame.DataFrame'>\n",
      "Int64Index: 83190 entries, 0 to 84547\n",
      "Data columns (total 19 columns):\n",
      " #   Column                          Non-Null Count  Dtype \n",
      "---  ------                          --------------  ----- \n",
      " 0   BOROUGH                         83190 non-null  int64 \n",
      " 1   NEIGHBORHOOD                    83190 non-null  object\n",
      " 2   BUILDING CLASS CATEGORY         83190 non-null  object\n",
      " 3   TAX CLASS AT PRESENT            83190 non-null  object\n",
      " 4   BLOCK                           83190 non-null  int64 \n",
      " 5   LOT                             83190 non-null  int64 \n",
      " 6   BUILDING CLASS AT PRESENT       83190 non-null  object\n",
      " 7   ADDRESS                         83190 non-null  object\n",
      " 8   APARTMENT NUMBER                83190 non-null  object\n",
      " 9   ZIP CODE                        83190 non-null  int64 \n",
      " 10  RESIDENTIAL UNITS               83190 non-null  int64 \n",
      " 11  COMMERCIAL UNITS                83190 non-null  int64 \n",
      " 12  TOTAL UNITS                     83190 non-null  int64 \n",
      " 13  LAND SQUARE FEET                83190 non-null  object\n",
      " 14  GROSS SQUARE FEET               83190 non-null  object\n",
      " 15  YEAR BUILT                      83190 non-null  int64 \n",
      " 16  TAX CLASS AT TIME OF SALE       83190 non-null  int64 \n",
      " 17  BUILDING CLASS AT TIME OF SALE  83190 non-null  object\n",
      " 18  SALE PRICE                      83190 non-null  object\n",
      "dtypes: int64(9), object(10)\n",
      "memory usage: 12.7+ MB\n"
     ]
    }
   ],
   "metadata": {}
  },
  {
   "cell_type": "code",
   "execution_count": 173,
   "source": [
    "df['BOROUGH'] = df['BOROUGH'].astype('category')\r\n",
    "df['TAX CLASS AT TIME OF SALE'] = df['TAX CLASS AT TIME OF SALE'].astype('category')\r\n",
    "df['TAX CLASS AT PRESENT'] = df['TAX CLASS AT PRESENT'].astype('category')\r\n",
    "\r\n",
    "df['LAND SQUARE FEET'] = pd.to_numeric(df['LAND SQUARE FEET'], errors='coerce')\r\n",
    "df['GROSS SQUARE FEET']= pd.to_numeric(df['GROSS SQUARE FEET'], errors='coerce')\r\n",
    "df['SALE PRICE'] = pd.to_numeric(df['SALE PRICE'], errors='coerce')\r\n"
   ],
   "outputs": [
    {
     "output_type": "error",
     "ename": "KeyError",
     "evalue": "'SALE DATE'",
     "traceback": [
      "\u001b[1;31m---------------------------------------------------------------------------\u001b[0m",
      "\u001b[1;31mKeyError\u001b[0m                                  Traceback (most recent call last)",
      "\u001b[1;32m~\\anaconda3\\lib\\site-packages\\pandas\\core\\indexes\\base.py\u001b[0m in \u001b[0;36mget_loc\u001b[1;34m(self, key, method, tolerance)\u001b[0m\n\u001b[0;32m   3079\u001b[0m             \u001b[1;32mtry\u001b[0m\u001b[1;33m:\u001b[0m\u001b[1;33m\u001b[0m\u001b[1;33m\u001b[0m\u001b[0m\n\u001b[1;32m-> 3080\u001b[1;33m                 \u001b[1;32mreturn\u001b[0m \u001b[0mself\u001b[0m\u001b[1;33m.\u001b[0m\u001b[0m_engine\u001b[0m\u001b[1;33m.\u001b[0m\u001b[0mget_loc\u001b[0m\u001b[1;33m(\u001b[0m\u001b[0mcasted_key\u001b[0m\u001b[1;33m)\u001b[0m\u001b[1;33m\u001b[0m\u001b[1;33m\u001b[0m\u001b[0m\n\u001b[0m\u001b[0;32m   3081\u001b[0m             \u001b[1;32mexcept\u001b[0m \u001b[0mKeyError\u001b[0m \u001b[1;32mas\u001b[0m \u001b[0merr\u001b[0m\u001b[1;33m:\u001b[0m\u001b[1;33m\u001b[0m\u001b[1;33m\u001b[0m\u001b[0m\n",
      "\u001b[1;32mpandas\\_libs\\index.pyx\u001b[0m in \u001b[0;36mpandas._libs.index.IndexEngine.get_loc\u001b[1;34m()\u001b[0m\n",
      "\u001b[1;32mpandas\\_libs\\index.pyx\u001b[0m in \u001b[0;36mpandas._libs.index.IndexEngine.get_loc\u001b[1;34m()\u001b[0m\n",
      "\u001b[1;32mpandas\\_libs\\hashtable_class_helper.pxi\u001b[0m in \u001b[0;36mpandas._libs.hashtable.PyObjectHashTable.get_item\u001b[1;34m()\u001b[0m\n",
      "\u001b[1;32mpandas\\_libs\\hashtable_class_helper.pxi\u001b[0m in \u001b[0;36mpandas._libs.hashtable.PyObjectHashTable.get_item\u001b[1;34m()\u001b[0m\n",
      "\u001b[1;31mKeyError\u001b[0m: 'SALE DATE'",
      "\nThe above exception was the direct cause of the following exception:\n",
      "\u001b[1;31mKeyError\u001b[0m                                  Traceback (most recent call last)",
      "\u001b[1;32m<ipython-input-173-8e65d7d1d8ea>\u001b[0m in \u001b[0;36m<module>\u001b[1;34m\u001b[0m\n\u001b[0;32m      3\u001b[0m \u001b[0mdf\u001b[0m\u001b[1;33m[\u001b[0m\u001b[1;34m'LAND SQUARE FEET'\u001b[0m\u001b[1;33m]\u001b[0m \u001b[1;33m=\u001b[0m \u001b[0mpd\u001b[0m\u001b[1;33m.\u001b[0m\u001b[0mto_numeric\u001b[0m\u001b[1;33m(\u001b[0m\u001b[0mdf\u001b[0m\u001b[1;33m[\u001b[0m\u001b[1;34m'LAND SQUARE FEET'\u001b[0m\u001b[1;33m]\u001b[0m\u001b[1;33m,\u001b[0m \u001b[0merrors\u001b[0m\u001b[1;33m=\u001b[0m\u001b[1;34m'coerce'\u001b[0m\u001b[1;33m)\u001b[0m\u001b[1;33m\u001b[0m\u001b[1;33m\u001b[0m\u001b[0m\n\u001b[0;32m      4\u001b[0m \u001b[0mdf\u001b[0m\u001b[1;33m[\u001b[0m\u001b[1;34m'GROSS SQUARE FEET'\u001b[0m\u001b[1;33m]\u001b[0m\u001b[1;33m=\u001b[0m \u001b[0mpd\u001b[0m\u001b[1;33m.\u001b[0m\u001b[0mto_numeric\u001b[0m\u001b[1;33m(\u001b[0m\u001b[0mdf\u001b[0m\u001b[1;33m[\u001b[0m\u001b[1;34m'GROSS SQUARE FEET'\u001b[0m\u001b[1;33m]\u001b[0m\u001b[1;33m,\u001b[0m \u001b[0merrors\u001b[0m\u001b[1;33m=\u001b[0m\u001b[1;34m'coerce'\u001b[0m\u001b[1;33m)\u001b[0m\u001b[1;33m\u001b[0m\u001b[1;33m\u001b[0m\u001b[0m\n\u001b[1;32m----> 5\u001b[1;33m \u001b[0mdf\u001b[0m\u001b[1;33m[\u001b[0m\u001b[1;34m'SALE DATE'\u001b[0m\u001b[1;33m]\u001b[0m \u001b[1;33m=\u001b[0m \u001b[0mpd\u001b[0m\u001b[1;33m.\u001b[0m\u001b[0mto_datetime\u001b[0m\u001b[1;33m(\u001b[0m\u001b[0mdf\u001b[0m\u001b[1;33m[\u001b[0m\u001b[1;34m'SALE DATE'\u001b[0m\u001b[1;33m]\u001b[0m\u001b[1;33m,\u001b[0m \u001b[0merrors\u001b[0m\u001b[1;33m=\u001b[0m\u001b[1;34m'coerce'\u001b[0m\u001b[1;33m)\u001b[0m\u001b[1;33m\u001b[0m\u001b[1;33m\u001b[0m\u001b[0m\n\u001b[0m\u001b[0;32m      6\u001b[0m \u001b[0mdf\u001b[0m\u001b[1;33m[\u001b[0m\u001b[1;34m'SALE PRICE'\u001b[0m\u001b[1;33m]\u001b[0m \u001b[1;33m=\u001b[0m \u001b[0mpd\u001b[0m\u001b[1;33m.\u001b[0m\u001b[0mto_numeric\u001b[0m\u001b[1;33m(\u001b[0m\u001b[0mdf\u001b[0m\u001b[1;33m[\u001b[0m\u001b[1;34m'SALE PRICE'\u001b[0m\u001b[1;33m]\u001b[0m\u001b[1;33m,\u001b[0m \u001b[0merrors\u001b[0m\u001b[1;33m=\u001b[0m\u001b[1;34m'coerce'\u001b[0m\u001b[1;33m)\u001b[0m\u001b[1;33m\u001b[0m\u001b[1;33m\u001b[0m\u001b[0m\n\u001b[0;32m      7\u001b[0m \u001b[0mdf\u001b[0m\u001b[1;33m[\u001b[0m\u001b[1;34m'BOROUGH'\u001b[0m\u001b[1;33m]\u001b[0m \u001b[1;33m=\u001b[0m \u001b[0mdf\u001b[0m\u001b[1;33m[\u001b[0m\u001b[1;34m'BOROUGH'\u001b[0m\u001b[1;33m]\u001b[0m\u001b[1;33m.\u001b[0m\u001b[0mastype\u001b[0m\u001b[1;33m(\u001b[0m\u001b[1;34m'category'\u001b[0m\u001b[1;33m)\u001b[0m\u001b[1;33m\u001b[0m\u001b[1;33m\u001b[0m\u001b[0m\n",
      "\u001b[1;32m~\\anaconda3\\lib\\site-packages\\pandas\\core\\frame.py\u001b[0m in \u001b[0;36m__getitem__\u001b[1;34m(self, key)\u001b[0m\n\u001b[0;32m   3022\u001b[0m             \u001b[1;32mif\u001b[0m \u001b[0mself\u001b[0m\u001b[1;33m.\u001b[0m\u001b[0mcolumns\u001b[0m\u001b[1;33m.\u001b[0m\u001b[0mnlevels\u001b[0m \u001b[1;33m>\u001b[0m \u001b[1;36m1\u001b[0m\u001b[1;33m:\u001b[0m\u001b[1;33m\u001b[0m\u001b[1;33m\u001b[0m\u001b[0m\n\u001b[0;32m   3023\u001b[0m                 \u001b[1;32mreturn\u001b[0m \u001b[0mself\u001b[0m\u001b[1;33m.\u001b[0m\u001b[0m_getitem_multilevel\u001b[0m\u001b[1;33m(\u001b[0m\u001b[0mkey\u001b[0m\u001b[1;33m)\u001b[0m\u001b[1;33m\u001b[0m\u001b[1;33m\u001b[0m\u001b[0m\n\u001b[1;32m-> 3024\u001b[1;33m             \u001b[0mindexer\u001b[0m \u001b[1;33m=\u001b[0m \u001b[0mself\u001b[0m\u001b[1;33m.\u001b[0m\u001b[0mcolumns\u001b[0m\u001b[1;33m.\u001b[0m\u001b[0mget_loc\u001b[0m\u001b[1;33m(\u001b[0m\u001b[0mkey\u001b[0m\u001b[1;33m)\u001b[0m\u001b[1;33m\u001b[0m\u001b[1;33m\u001b[0m\u001b[0m\n\u001b[0m\u001b[0;32m   3025\u001b[0m             \u001b[1;32mif\u001b[0m \u001b[0mis_integer\u001b[0m\u001b[1;33m(\u001b[0m\u001b[0mindexer\u001b[0m\u001b[1;33m)\u001b[0m\u001b[1;33m:\u001b[0m\u001b[1;33m\u001b[0m\u001b[1;33m\u001b[0m\u001b[0m\n\u001b[0;32m   3026\u001b[0m                 \u001b[0mindexer\u001b[0m \u001b[1;33m=\u001b[0m \u001b[1;33m[\u001b[0m\u001b[0mindexer\u001b[0m\u001b[1;33m]\u001b[0m\u001b[1;33m\u001b[0m\u001b[1;33m\u001b[0m\u001b[0m\n",
      "\u001b[1;32m~\\anaconda3\\lib\\site-packages\\pandas\\core\\indexes\\base.py\u001b[0m in \u001b[0;36mget_loc\u001b[1;34m(self, key, method, tolerance)\u001b[0m\n\u001b[0;32m   3080\u001b[0m                 \u001b[1;32mreturn\u001b[0m \u001b[0mself\u001b[0m\u001b[1;33m.\u001b[0m\u001b[0m_engine\u001b[0m\u001b[1;33m.\u001b[0m\u001b[0mget_loc\u001b[0m\u001b[1;33m(\u001b[0m\u001b[0mcasted_key\u001b[0m\u001b[1;33m)\u001b[0m\u001b[1;33m\u001b[0m\u001b[1;33m\u001b[0m\u001b[0m\n\u001b[0;32m   3081\u001b[0m             \u001b[1;32mexcept\u001b[0m \u001b[0mKeyError\u001b[0m \u001b[1;32mas\u001b[0m \u001b[0merr\u001b[0m\u001b[1;33m:\u001b[0m\u001b[1;33m\u001b[0m\u001b[1;33m\u001b[0m\u001b[0m\n\u001b[1;32m-> 3082\u001b[1;33m                 \u001b[1;32mraise\u001b[0m \u001b[0mKeyError\u001b[0m\u001b[1;33m(\u001b[0m\u001b[0mkey\u001b[0m\u001b[1;33m)\u001b[0m \u001b[1;32mfrom\u001b[0m \u001b[0merr\u001b[0m\u001b[1;33m\u001b[0m\u001b[1;33m\u001b[0m\u001b[0m\n\u001b[0m\u001b[0;32m   3083\u001b[0m \u001b[1;33m\u001b[0m\u001b[0m\n\u001b[0;32m   3084\u001b[0m         \u001b[1;32mif\u001b[0m \u001b[0mtolerance\u001b[0m \u001b[1;32mis\u001b[0m \u001b[1;32mnot\u001b[0m \u001b[1;32mNone\u001b[0m\u001b[1;33m:\u001b[0m\u001b[1;33m\u001b[0m\u001b[1;33m\u001b[0m\u001b[0m\n",
      "\u001b[1;31mKeyError\u001b[0m: 'SALE DATE'"
     ]
    }
   ],
   "metadata": {}
  },
  {
   "cell_type": "code",
   "execution_count": null,
   "source": [
    "df.columns[df.isnull().any()]"
   ],
   "outputs": [
    {
     "output_type": "execute_result",
     "data": {
      "text/plain": [
       "Index(['LAND SQUARE FEET', 'GROSS SQUARE FEET', 'SALE PRICE'], dtype='object')"
      ]
     },
     "metadata": {},
     "execution_count": 127
    }
   ],
   "metadata": {}
  },
  {
   "cell_type": "code",
   "execution_count": null,
   "source": [
    "miss=df.isnull().sum()/len(df)\r\n",
    "miss=miss[miss>0]\r\n",
    "miss.sort_values(inplace=True)\r\n",
    "miss"
   ],
   "outputs": [
    {
     "output_type": "execute_result",
     "data": {
      "text/plain": [
       "SALE PRICE           0.167196\n",
       "LAND SQUARE FEET     0.312213\n",
       "GROSS SQUARE FEET    0.327888\n",
       "dtype: float64"
      ]
     },
     "metadata": {},
     "execution_count": 128
    }
   ],
   "metadata": {}
  },
  {
   "cell_type": "code",
   "execution_count": null,
   "source": [
    "miss=miss.to_frame()\r\n",
    "miss.columns=['count']\r\n",
    "miss.index.names=['Name']\r\n",
    "miss['Name']=miss.index\r\n",
    "miss"
   ],
   "outputs": [
    {
     "output_type": "execute_result",
     "data": {
      "text/html": [
       "<div>\n",
       "<style scoped>\n",
       "    .dataframe tbody tr th:only-of-type {\n",
       "        vertical-align: middle;\n",
       "    }\n",
       "\n",
       "    .dataframe tbody tr th {\n",
       "        vertical-align: top;\n",
       "    }\n",
       "\n",
       "    .dataframe thead th {\n",
       "        text-align: right;\n",
       "    }\n",
       "</style>\n",
       "<table border=\"1\" class=\"dataframe\">\n",
       "  <thead>\n",
       "    <tr style=\"text-align: right;\">\n",
       "      <th></th>\n",
       "      <th>count</th>\n",
       "      <th>Name</th>\n",
       "    </tr>\n",
       "    <tr>\n",
       "      <th>Name</th>\n",
       "      <th></th>\n",
       "      <th></th>\n",
       "    </tr>\n",
       "  </thead>\n",
       "  <tbody>\n",
       "    <tr>\n",
       "      <th>SALE PRICE</th>\n",
       "      <td>0.167196</td>\n",
       "      <td>SALE PRICE</td>\n",
       "    </tr>\n",
       "    <tr>\n",
       "      <th>LAND SQUARE FEET</th>\n",
       "      <td>0.312213</td>\n",
       "      <td>LAND SQUARE FEET</td>\n",
       "    </tr>\n",
       "    <tr>\n",
       "      <th>GROSS SQUARE FEET</th>\n",
       "      <td>0.327888</td>\n",
       "      <td>GROSS SQUARE FEET</td>\n",
       "    </tr>\n",
       "  </tbody>\n",
       "</table>\n",
       "</div>"
      ],
      "text/plain": [
       "                      count               Name\n",
       "Name                                          \n",
       "SALE PRICE         0.167196         SALE PRICE\n",
       "LAND SQUARE FEET   0.312213   LAND SQUARE FEET\n",
       "GROSS SQUARE FEET  0.327888  GROSS SQUARE FEET"
      ]
     },
     "metadata": {},
     "execution_count": 129
    }
   ],
   "metadata": {}
  },
  {
   "cell_type": "code",
   "execution_count": null,
   "source": [
    "#plot the missing values\r\n",
    "sns.set(style='whitegrid',color_codes=True)\r\n",
    "sns.barplot(x='Name', y='count',data=miss)\r\n",
    "plt.xticks(rotation=90)\r\n",
    "sns"
   ],
   "outputs": [
    {
     "output_type": "execute_result",
     "data": {
      "text/plain": [
       "<module 'seaborn' from 'C:\\\\Users\\\\hugod\\\\anaconda3\\\\lib\\\\site-packages\\\\seaborn\\\\__init__.py'>"
      ]
     },
     "metadata": {},
     "execution_count": 130
    },
    {
     "output_type": "display_data",
     "data": {
      "image/png": "[encoded data removed]",
      "text/plain": [
       "<Figure size 432x288 with 1 Axes>"
      ]
     },
     "metadata": {}
    }
   ],
   "metadata": {}
  },
  {
   "cell_type": "code",
   "execution_count": null,
   "source": [
    "df['LAND SQUARE FEET']=df['LAND SQUARE FEET'].fillna(df['LAND SQUARE FEET'].mean())\r\n",
    "df['GROSS SQUARE FEET']=df['GROSS SQUARE FEET'].fillna(df['GROSS SQUARE FEET'].mean())"
   ],
   "outputs": [],
   "metadata": {}
  },
  {
   "cell_type": "code",
   "execution_count": null,
   "source": [
    "test=df[df['SALE PRICE'].isna()]\r\n",
    "data=df[~df['SALE PRICE'].isna()]"
   ],
   "outputs": [],
   "metadata": {}
  },
  {
   "cell_type": "code",
   "execution_count": null,
   "source": [
    "test = test.drop(columns='SALE PRICE')"
   ],
   "outputs": [],
   "metadata": {}
  },
  {
   "cell_type": "code",
   "execution_count": null,
   "source": [
    "print(test.shape)\r\n",
    "test.head()"
   ],
   "outputs": [
    {
     "output_type": "stream",
     "name": "stdout",
     "text": [
      "(13909, 18)\n"
     ]
    },
    {
     "output_type": "execute_result",
     "data": {
      "text/html": [
       "<div>\n",
       "<style scoped>\n",
       "    .dataframe tbody tr th:only-of-type {\n",
       "        vertical-align: middle;\n",
       "    }\n",
       "\n",
       "    .dataframe tbody tr th {\n",
       "        vertical-align: top;\n",
       "    }\n",
       "\n",
       "    .dataframe thead th {\n",
       "        text-align: right;\n",
       "    }\n",
       "</style>\n",
       "<table border=\"1\" class=\"dataframe\">\n",
       "  <thead>\n",
       "    <tr style=\"text-align: right;\">\n",
       "      <th></th>\n",
       "      <th>BOROUGH</th>\n",
       "      <th>NEIGHBORHOOD</th>\n",
       "      <th>BUILDING CLASS CATEGORY</th>\n",
       "      <th>TAX CLASS AT PRESENT</th>\n",
       "      <th>BLOCK</th>\n",
       "      <th>LOT</th>\n",
       "      <th>BUILDING CLASS AT PRESENT</th>\n",
       "      <th>ADDRESS</th>\n",
       "      <th>APARTMENT NUMBER</th>\n",
       "      <th>ZIP CODE</th>\n",
       "      <th>RESIDENTIAL UNITS</th>\n",
       "      <th>COMMERCIAL UNITS</th>\n",
       "      <th>TOTAL UNITS</th>\n",
       "      <th>LAND SQUARE FEET</th>\n",
       "      <th>GROSS SQUARE FEET</th>\n",
       "      <th>YEAR BUILT</th>\n",
       "      <th>TAX CLASS AT TIME OF SALE</th>\n",
       "      <th>BUILDING CLASS AT TIME OF SALE</th>\n",
       "    </tr>\n",
       "  </thead>\n",
       "  <tbody>\n",
       "    <tr>\n",
       "      <th>1</th>\n",
       "      <td>1</td>\n",
       "      <td>ALPHABET CITY</td>\n",
       "      <td>07 RENTALS - WALKUP APARTMENTS</td>\n",
       "      <td>2</td>\n",
       "      <td>399</td>\n",
       "      <td>26</td>\n",
       "      <td>C7</td>\n",
       "      <td>234 EAST 4TH   STREET</td>\n",
       "      <td></td>\n",
       "      <td>10009</td>\n",
       "      <td>28</td>\n",
       "      <td>3</td>\n",
       "      <td>31</td>\n",
       "      <td>4616.0</td>\n",
       "      <td>18690.0</td>\n",
       "      <td>1900</td>\n",
       "      <td>2</td>\n",
       "      <td>C7</td>\n",
       "    </tr>\n",
       "    <tr>\n",
       "      <th>2</th>\n",
       "      <td>1</td>\n",
       "      <td>ALPHABET CITY</td>\n",
       "      <td>07 RENTALS - WALKUP APARTMENTS</td>\n",
       "      <td>2</td>\n",
       "      <td>399</td>\n",
       "      <td>39</td>\n",
       "      <td>C7</td>\n",
       "      <td>197 EAST 3RD   STREET</td>\n",
       "      <td></td>\n",
       "      <td>10009</td>\n",
       "      <td>16</td>\n",
       "      <td>1</td>\n",
       "      <td>17</td>\n",
       "      <td>2212.0</td>\n",
       "      <td>7803.0</td>\n",
       "      <td>1900</td>\n",
       "      <td>2</td>\n",
       "      <td>C7</td>\n",
       "    </tr>\n",
       "    <tr>\n",
       "      <th>5</th>\n",
       "      <td>1</td>\n",
       "      <td>ALPHABET CITY</td>\n",
       "      <td>07 RENTALS - WALKUP APARTMENTS</td>\n",
       "      <td>2</td>\n",
       "      <td>405</td>\n",
       "      <td>16</td>\n",
       "      <td>C4</td>\n",
       "      <td>516 EAST 12TH   STREET</td>\n",
       "      <td></td>\n",
       "      <td>10009</td>\n",
       "      <td>20</td>\n",
       "      <td>0</td>\n",
       "      <td>20</td>\n",
       "      <td>2581.0</td>\n",
       "      <td>9730.0</td>\n",
       "      <td>1900</td>\n",
       "      <td>2</td>\n",
       "      <td>C4</td>\n",
       "    </tr>\n",
       "    <tr>\n",
       "      <th>7</th>\n",
       "      <td>1</td>\n",
       "      <td>ALPHABET CITY</td>\n",
       "      <td>07 RENTALS - WALKUP APARTMENTS</td>\n",
       "      <td>2</td>\n",
       "      <td>407</td>\n",
       "      <td>18</td>\n",
       "      <td>C7</td>\n",
       "      <td>520 EAST 14TH   STREET</td>\n",
       "      <td></td>\n",
       "      <td>10009</td>\n",
       "      <td>44</td>\n",
       "      <td>2</td>\n",
       "      <td>46</td>\n",
       "      <td>5163.0</td>\n",
       "      <td>21007.0</td>\n",
       "      <td>1900</td>\n",
       "      <td>2</td>\n",
       "      <td>C7</td>\n",
       "    </tr>\n",
       "    <tr>\n",
       "      <th>8</th>\n",
       "      <td>1</td>\n",
       "      <td>ALPHABET CITY</td>\n",
       "      <td>08 RENTALS - ELEVATOR APARTMENTS</td>\n",
       "      <td>2</td>\n",
       "      <td>379</td>\n",
       "      <td>34</td>\n",
       "      <td>D5</td>\n",
       "      <td>141 AVENUE D</td>\n",
       "      <td></td>\n",
       "      <td>10009</td>\n",
       "      <td>15</td>\n",
       "      <td>0</td>\n",
       "      <td>15</td>\n",
       "      <td>1534.0</td>\n",
       "      <td>9198.0</td>\n",
       "      <td>1920</td>\n",
       "      <td>2</td>\n",
       "      <td>D5</td>\n",
       "    </tr>\n",
       "  </tbody>\n",
       "</table>\n",
       "</div>"
      ],
      "text/plain": [
       "  BOROUGH   NEIGHBORHOOD                      BUILDING CLASS CATEGORY  \\\n",
       "1       1  ALPHABET CITY  07 RENTALS - WALKUP APARTMENTS                \n",
       "2       1  ALPHABET CITY  07 RENTALS - WALKUP APARTMENTS                \n",
       "5       1  ALPHABET CITY  07 RENTALS - WALKUP APARTMENTS                \n",
       "7       1  ALPHABET CITY  07 RENTALS - WALKUP APARTMENTS                \n",
       "8       1  ALPHABET CITY  08 RENTALS - ELEVATOR APARTMENTS              \n",
       "\n",
       "  TAX CLASS AT PRESENT  BLOCK  LOT BUILDING CLASS AT PRESENT  \\\n",
       "1                    2    399   26                        C7   \n",
       "2                    2    399   39                        C7   \n",
       "5                    2    405   16                        C4   \n",
       "7                    2    407   18                        C7   \n",
       "8                    2    379   34                        D5   \n",
       "\n",
       "                  ADDRESS APARTMENT NUMBER  ZIP CODE  RESIDENTIAL UNITS  \\\n",
       "1   234 EAST 4TH   STREET                      10009                 28   \n",
       "2   197 EAST 3RD   STREET                      10009                 16   \n",
       "5  516 EAST 12TH   STREET                      10009                 20   \n",
       "7  520 EAST 14TH   STREET                      10009                 44   \n",
       "8            141 AVENUE D                      10009                 15   \n",
       "\n",
       "   COMMERCIAL UNITS  TOTAL UNITS  LAND SQUARE FEET  GROSS SQUARE FEET  \\\n",
       "1                 3           31            4616.0            18690.0   \n",
       "2                 1           17            2212.0             7803.0   \n",
       "5                 0           20            2581.0             9730.0   \n",
       "7                 2           46            5163.0            21007.0   \n",
       "8                 0           15            1534.0             9198.0   \n",
       "\n",
       "   YEAR BUILT TAX CLASS AT TIME OF SALE BUILDING CLASS AT TIME OF SALE  \n",
       "1        1900                         2                             C7  \n",
       "2        1900                         2                             C7  \n",
       "5        1900                         2                             C4  \n",
       "7        1900                         2                             C7  \n",
       "8        1920                         2                             D5  "
      ]
     },
     "metadata": {},
     "execution_count": 134
    }
   ],
   "metadata": {}
  },
  {
   "cell_type": "code",
   "execution_count": null,
   "source": [
    "corr = data.corr()\r\n",
    "corr['SALE PRICE'].sort_values(ascending=False)"
   ],
   "outputs": [
    {
     "output_type": "execute_result",
     "data": {
      "text/plain": [
       "SALE PRICE           1.000000\n",
       "GROSS SQUARE FEET    0.449913\n",
       "TOTAL UNITS          0.126654\n",
       "RESIDENTIAL UNITS    0.122566\n",
       "LAND SQUARE FEET     0.060143\n",
       "COMMERCIAL UNITS     0.044535\n",
       "LOT                  0.012266\n",
       "YEAR BUILT          -0.003779\n",
       "ZIP CODE            -0.034110\n",
       "BLOCK               -0.061357\n",
       "Name: SALE PRICE, dtype: float64"
      ]
     },
     "metadata": {},
     "execution_count": 135
    }
   ],
   "metadata": {}
  },
  {
   "cell_type": "code",
   "execution_count": null,
   "source": [
    "numeric_data=data.select_dtypes(include=[np.number])\r\n",
    "numeric_data.describe()"
   ],
   "outputs": [
    {
     "output_type": "execute_result",
     "data": {
      "text/html": [
       "<div>\n",
       "<style scoped>\n",
       "    .dataframe tbody tr th:only-of-type {\n",
       "        vertical-align: middle;\n",
       "    }\n",
       "\n",
       "    .dataframe tbody tr th {\n",
       "        vertical-align: top;\n",
       "    }\n",
       "\n",
       "    .dataframe thead th {\n",
       "        text-align: right;\n",
       "    }\n",
       "</style>\n",
       "<table border=\"1\" class=\"dataframe\">\n",
       "  <thead>\n",
       "    <tr style=\"text-align: right;\">\n",
       "      <th></th>\n",
       "      <th>BLOCK</th>\n",
       "      <th>LOT</th>\n",
       "      <th>ZIP CODE</th>\n",
       "      <th>RESIDENTIAL UNITS</th>\n",
       "      <th>COMMERCIAL UNITS</th>\n",
       "      <th>TOTAL UNITS</th>\n",
       "      <th>LAND SQUARE FEET</th>\n",
       "      <th>GROSS SQUARE FEET</th>\n",
       "      <th>YEAR BUILT</th>\n",
       "      <th>SALE PRICE</th>\n",
       "    </tr>\n",
       "  </thead>\n",
       "  <tbody>\n",
       "    <tr>\n",
       "      <th>count</th>\n",
       "      <td>69281.000000</td>\n",
       "      <td>69281.000000</td>\n",
       "      <td>69281.000000</td>\n",
       "      <td>69281.000000</td>\n",
       "      <td>69281.000000</td>\n",
       "      <td>69281.000000</td>\n",
       "      <td>6.928100e+04</td>\n",
       "      <td>6.928100e+04</td>\n",
       "      <td>69281.000000</td>\n",
       "      <td>6.928100e+04</td>\n",
       "    </tr>\n",
       "    <tr>\n",
       "      <th>mean</th>\n",
       "      <td>4200.305437</td>\n",
       "      <td>374.983473</td>\n",
       "      <td>10739.919458</td>\n",
       "      <td>1.870859</td>\n",
       "      <td>0.164244</td>\n",
       "      <td>2.055109</td>\n",
       "      <td>3.643061e+03</td>\n",
       "      <td>3.640300e+03</td>\n",
       "      <td>1800.113451</td>\n",
       "      <td>1.286521e+06</td>\n",
       "    </tr>\n",
       "    <tr>\n",
       "      <th>std</th>\n",
       "      <td>3434.828427</td>\n",
       "      <td>656.820333</td>\n",
       "      <td>1265.389144</td>\n",
       "      <td>14.317577</td>\n",
       "      <td>9.018311</td>\n",
       "      <td>17.026435</td>\n",
       "      <td>3.322172e+04</td>\n",
       "      <td>2.427118e+04</td>\n",
       "      <td>519.752668</td>\n",
       "      <td>1.145690e+07</td>\n",
       "    </tr>\n",
       "    <tr>\n",
       "      <th>min</th>\n",
       "      <td>1.000000</td>\n",
       "      <td>1.000000</td>\n",
       "      <td>0.000000</td>\n",
       "      <td>0.000000</td>\n",
       "      <td>0.000000</td>\n",
       "      <td>0.000000</td>\n",
       "      <td>0.000000e+00</td>\n",
       "      <td>0.000000e+00</td>\n",
       "      <td>0.000000</td>\n",
       "      <td>0.000000e+00</td>\n",
       "    </tr>\n",
       "    <tr>\n",
       "      <th>25%</th>\n",
       "      <td>1349.000000</td>\n",
       "      <td>21.000000</td>\n",
       "      <td>10306.000000</td>\n",
       "      <td>0.000000</td>\n",
       "      <td>0.000000</td>\n",
       "      <td>0.000000</td>\n",
       "      <td>1.900000e+03</td>\n",
       "      <td>1.268000e+03</td>\n",
       "      <td>1920.000000</td>\n",
       "      <td>2.350000e+05</td>\n",
       "    </tr>\n",
       "    <tr>\n",
       "      <th>50%</th>\n",
       "      <td>3377.000000</td>\n",
       "      <td>50.000000</td>\n",
       "      <td>11209.000000</td>\n",
       "      <td>1.000000</td>\n",
       "      <td>0.000000</td>\n",
       "      <td>1.000000</td>\n",
       "      <td>2.970000e+03</td>\n",
       "      <td>2.400000e+03</td>\n",
       "      <td>1938.000000</td>\n",
       "      <td>5.350000e+05</td>\n",
       "    </tr>\n",
       "    <tr>\n",
       "      <th>75%</th>\n",
       "      <td>6192.000000</td>\n",
       "      <td>879.000000</td>\n",
       "      <td>11249.000000</td>\n",
       "      <td>2.000000</td>\n",
       "      <td>0.000000</td>\n",
       "      <td>2.000000</td>\n",
       "      <td>3.858418e+03</td>\n",
       "      <td>3.891878e+03</td>\n",
       "      <td>1965.000000</td>\n",
       "      <td>9.500000e+05</td>\n",
       "    </tr>\n",
       "    <tr>\n",
       "      <th>max</th>\n",
       "      <td>16319.000000</td>\n",
       "      <td>9106.000000</td>\n",
       "      <td>11694.000000</td>\n",
       "      <td>1844.000000</td>\n",
       "      <td>2261.000000</td>\n",
       "      <td>2261.000000</td>\n",
       "      <td>4.252327e+06</td>\n",
       "      <td>3.750565e+06</td>\n",
       "      <td>2017.000000</td>\n",
       "      <td>2.210000e+09</td>\n",
       "    </tr>\n",
       "  </tbody>\n",
       "</table>\n",
       "</div>"
      ],
      "text/plain": [
       "              BLOCK           LOT      ZIP CODE  RESIDENTIAL UNITS  \\\n",
       "count  69281.000000  69281.000000  69281.000000       69281.000000   \n",
       "mean    4200.305437    374.983473  10739.919458           1.870859   \n",
       "std     3434.828427    656.820333   1265.389144          14.317577   \n",
       "min        1.000000      1.000000      0.000000           0.000000   \n",
       "25%     1349.000000     21.000000  10306.000000           0.000000   \n",
       "50%     3377.000000     50.000000  11209.000000           1.000000   \n",
       "75%     6192.000000    879.000000  11249.000000           2.000000   \n",
       "max    16319.000000   9106.000000  11694.000000        1844.000000   \n",
       "\n",
       "       COMMERCIAL UNITS   TOTAL UNITS  LAND SQUARE FEET  GROSS SQUARE FEET  \\\n",
       "count      69281.000000  69281.000000      6.928100e+04       6.928100e+04   \n",
       "mean           0.164244      2.055109      3.643061e+03       3.640300e+03   \n",
       "std            9.018311     17.026435      3.322172e+04       2.427118e+04   \n",
       "min            0.000000      0.000000      0.000000e+00       0.000000e+00   \n",
       "25%            0.000000      0.000000      1.900000e+03       1.268000e+03   \n",
       "50%            0.000000      1.000000      2.970000e+03       2.400000e+03   \n",
       "75%            0.000000      2.000000      3.858418e+03       3.891878e+03   \n",
       "max         2261.000000   2261.000000      4.252327e+06       3.750565e+06   \n",
       "\n",
       "         YEAR BUILT    SALE PRICE  \n",
       "count  69281.000000  6.928100e+04  \n",
       "mean    1800.113451  1.286521e+06  \n",
       "std      519.752668  1.145690e+07  \n",
       "min        0.000000  0.000000e+00  \n",
       "25%     1920.000000  2.350000e+05  \n",
       "50%     1938.000000  5.350000e+05  \n",
       "75%     1965.000000  9.500000e+05  \n",
       "max     2017.000000  2.210000e+09  "
      ]
     },
     "metadata": {},
     "execution_count": 136
    }
   ],
   "metadata": {}
  },
  {
   "cell_type": "code",
   "execution_count": null,
   "source": [
    "sns.distplot(data['SALE PRICE'])"
   ],
   "outputs": [
    {
     "output_type": "execute_result",
     "data": {
      "text/plain": [
       "<AxesSubplot:xlabel='SALE PRICE', ylabel='Density'>"
      ]
     },
     "metadata": {},
     "execution_count": 137
    },
    {
     "output_type": "display_data",
     "data": {
      "image/png": "[encoded data removed]",
      "text/plain": [
       "<Figure size 432x288 with 1 Axes>"
      ]
     },
     "metadata": {}
    }
   ],
   "metadata": {}
  },
  {
   "cell_type": "code",
   "execution_count": null,
   "source": [
    "data = data[(data['SALE PRICE'] > 100000) & (data['SALE PRICE'] < 5000000)]"
   ],
   "outputs": [],
   "metadata": {}
  },
  {
   "cell_type": "code",
   "execution_count": null,
   "source": [
    "sns.distplot(data['SALE PRICE'])"
   ],
   "outputs": [
    {
     "output_type": "execute_result",
     "data": {
      "text/plain": [
       "<AxesSubplot:xlabel='SALE PRICE', ylabel='Density'>"
      ]
     },
     "metadata": {},
     "execution_count": 139
    },
    {
     "output_type": "display_data",
     "data": {
      "image/png": "[encoded data removed]",
      "text/plain": [
       "<Figure size 432x288 with 1 Axes>"
      ]
     },
     "metadata": {}
    }
   ],
   "metadata": {}
  },
  {
   "cell_type": "code",
   "execution_count": null,
   "source": [
    "data['SALE PRICE'].skew()\r\n"
   ],
   "outputs": [
    {
     "output_type": "execute_result",
     "data": {
      "text/plain": [
       "2.3437455096169386"
      ]
     },
     "metadata": {},
     "execution_count": 140
    }
   ],
   "metadata": {}
  },
  {
   "cell_type": "code",
   "execution_count": null,
   "source": [
    "#SALE PRICE is highly right skewed. So, we will log transform it so that it give better results.\r\n",
    "\r\n",
    "sales=np.log(data['SALE PRICE'])\r\n",
    "print(sales.skew())\r\n",
    "sns.distplot(sales)"
   ],
   "outputs": [
    {
     "output_type": "stream",
     "name": "stdout",
     "text": [
      "0.19896303705046872\n"
     ]
    },
    {
     "output_type": "execute_result",
     "data": {
      "text/plain": [
       "<AxesSubplot:xlabel='SALE PRICE', ylabel='Density'>"
      ]
     },
     "metadata": {},
     "execution_count": 141
    },
    {
     "output_type": "display_data",
     "data": {
      "image/png": "[encoded data removed]",
      "text/plain": [
       "<Figure size 432x288 with 1 Axes>"
      ]
     },
     "metadata": {}
    }
   ],
   "metadata": {}
  },
  {
   "cell_type": "code",
   "execution_count": null,
   "source": [
    "data[[\"TOTAL UNITS\", \"SALE PRICE\"]].groupby(['TOTAL UNITS'], as_index=False).count().sort_values(by='SALE PRICE', ascending=False)"
   ],
   "outputs": [
    {
     "output_type": "execute_result",
     "data": {
      "text/html": [
       "<div>\n",
       "<style scoped>\n",
       "    .dataframe tbody tr th:only-of-type {\n",
       "        vertical-align: middle;\n",
       "    }\n",
       "\n",
       "    .dataframe tbody tr th {\n",
       "        vertical-align: top;\n",
       "    }\n",
       "\n",
       "    .dataframe thead th {\n",
       "        text-align: right;\n",
       "    }\n",
       "</style>\n",
       "<table border=\"1\" class=\"dataframe\">\n",
       "  <thead>\n",
       "    <tr style=\"text-align: right;\">\n",
       "      <th></th>\n",
       "      <th>TOTAL UNITS</th>\n",
       "      <th>SALE PRICE</th>\n",
       "    </tr>\n",
       "  </thead>\n",
       "  <tbody>\n",
       "    <tr>\n",
       "      <th>1</th>\n",
       "      <td>1</td>\n",
       "      <td>24886</td>\n",
       "    </tr>\n",
       "    <tr>\n",
       "      <th>0</th>\n",
       "      <td>0</td>\n",
       "      <td>15550</td>\n",
       "    </tr>\n",
       "    <tr>\n",
       "      <th>2</th>\n",
       "      <td>2</td>\n",
       "      <td>9576</td>\n",
       "    </tr>\n",
       "    <tr>\n",
       "      <th>3</th>\n",
       "      <td>3</td>\n",
       "      <td>2736</td>\n",
       "    </tr>\n",
       "    <tr>\n",
       "      <th>4</th>\n",
       "      <td>4</td>\n",
       "      <td>708</td>\n",
       "    </tr>\n",
       "    <tr>\n",
       "      <th>...</th>\n",
       "      <td>...</td>\n",
       "      <td>...</td>\n",
       "    </tr>\n",
       "    <tr>\n",
       "      <th>40</th>\n",
       "      <td>51</td>\n",
       "      <td>1</td>\n",
       "    </tr>\n",
       "    <tr>\n",
       "      <th>33</th>\n",
       "      <td>34</td>\n",
       "      <td>1</td>\n",
       "    </tr>\n",
       "    <tr>\n",
       "      <th>38</th>\n",
       "      <td>47</td>\n",
       "      <td>1</td>\n",
       "    </tr>\n",
       "    <tr>\n",
       "      <th>37</th>\n",
       "      <td>39</td>\n",
       "      <td>1</td>\n",
       "    </tr>\n",
       "    <tr>\n",
       "      <th>69</th>\n",
       "      <td>2261</td>\n",
       "      <td>1</td>\n",
       "    </tr>\n",
       "  </tbody>\n",
       "</table>\n",
       "<p>70 rows × 2 columns</p>\n",
       "</div>"
      ],
      "text/plain": [
       "    TOTAL UNITS  SALE PRICE\n",
       "1             1       24886\n",
       "0             0       15550\n",
       "2             2        9576\n",
       "3             3        2736\n",
       "4             4         708\n",
       "..          ...         ...\n",
       "40           51           1\n",
       "33           34           1\n",
       "38           47           1\n",
       "37           39           1\n",
       "69         2261           1\n",
       "\n",
       "[70 rows x 2 columns]"
      ]
     },
     "metadata": {},
     "execution_count": 142
    }
   ],
   "metadata": {}
  },
  {
   "cell_type": "code",
   "execution_count": null,
   "source": [
    "#Removing rows with TOTAL UNITS == 0 and one outlier with 2261 units\r\n",
    "\r\n",
    "data = data[(data['TOTAL UNITS'] > 0) & (data['TOTAL UNITS'] != 2261)] "
   ],
   "outputs": [],
   "metadata": {}
  },
  {
   "cell_type": "code",
   "execution_count": null,
   "source": [
    "cat_data=data.select_dtypes(exclude=[np.number])\r\n",
    "cat_data.describe()"
   ],
   "outputs": [
    {
     "output_type": "execute_result",
     "data": {
      "text/html": [
       "<div>\n",
       "<style scoped>\n",
       "    .dataframe tbody tr th:only-of-type {\n",
       "        vertical-align: middle;\n",
       "    }\n",
       "\n",
       "    .dataframe tbody tr th {\n",
       "        vertical-align: top;\n",
       "    }\n",
       "\n",
       "    .dataframe thead th {\n",
       "        text-align: right;\n",
       "    }\n",
       "</style>\n",
       "<table border=\"1\" class=\"dataframe\">\n",
       "  <thead>\n",
       "    <tr style=\"text-align: right;\">\n",
       "      <th></th>\n",
       "      <th>BOROUGH</th>\n",
       "      <th>NEIGHBORHOOD</th>\n",
       "      <th>BUILDING CLASS CATEGORY</th>\n",
       "      <th>TAX CLASS AT PRESENT</th>\n",
       "      <th>BUILDING CLASS AT PRESENT</th>\n",
       "      <th>ADDRESS</th>\n",
       "      <th>APARTMENT NUMBER</th>\n",
       "      <th>TAX CLASS AT TIME OF SALE</th>\n",
       "      <th>BUILDING CLASS AT TIME OF SALE</th>\n",
       "    </tr>\n",
       "  </thead>\n",
       "  <tbody>\n",
       "    <tr>\n",
       "      <th>count</th>\n",
       "      <td>39004</td>\n",
       "      <td>39004</td>\n",
       "      <td>39004</td>\n",
       "      <td>39004</td>\n",
       "      <td>39004</td>\n",
       "      <td>39004</td>\n",
       "      <td>39004</td>\n",
       "      <td>39004</td>\n",
       "      <td>39004</td>\n",
       "    </tr>\n",
       "    <tr>\n",
       "      <th>unique</th>\n",
       "      <td>5</td>\n",
       "      <td>248</td>\n",
       "      <td>38</td>\n",
       "      <td>9</td>\n",
       "      <td>117</td>\n",
       "      <td>31071</td>\n",
       "      <td>2643</td>\n",
       "      <td>3</td>\n",
       "      <td>117</td>\n",
       "    </tr>\n",
       "    <tr>\n",
       "      <th>top</th>\n",
       "      <td>4</td>\n",
       "      <td>FLUSHING-NORTH</td>\n",
       "      <td>01 ONE FAMILY DWELLINGS</td>\n",
       "      <td>1</td>\n",
       "      <td>R4</td>\n",
       "      <td>131-05 40TH   ROAD</td>\n",
       "      <td></td>\n",
       "      <td>1</td>\n",
       "      <td>R4</td>\n",
       "    </tr>\n",
       "    <tr>\n",
       "      <th>freq</th>\n",
       "      <td>12739</td>\n",
       "      <td>1677</td>\n",
       "      <td>12416</td>\n",
       "      <td>24245</td>\n",
       "      <td>8918</td>\n",
       "      <td>209</td>\n",
       "      <td>27038</td>\n",
       "      <td>25474</td>\n",
       "      <td>8922</td>\n",
       "    </tr>\n",
       "  </tbody>\n",
       "</table>\n",
       "</div>"
      ],
      "text/plain": [
       "        BOROUGH    NEIGHBORHOOD                      BUILDING CLASS CATEGORY  \\\n",
       "count     39004           39004                                        39004   \n",
       "unique        5             248                                           38   \n",
       "top           4  FLUSHING-NORTH  01 ONE FAMILY DWELLINGS                       \n",
       "freq      12739            1677                                        12416   \n",
       "\n",
       "       TAX CLASS AT PRESENT BUILDING CLASS AT PRESENT             ADDRESS  \\\n",
       "count                 39004                     39004               39004   \n",
       "unique                    9                       117               31071   \n",
       "top                       1                        R4  131-05 40TH   ROAD   \n",
       "freq                  24245                      8918                 209   \n",
       "\n",
       "       APARTMENT NUMBER  TAX CLASS AT TIME OF SALE  \\\n",
       "count             39004                      39004   \n",
       "unique             2643                          3   \n",
       "top                                              1   \n",
       "freq              27038                      25474   \n",
       "\n",
       "       BUILDING CLASS AT TIME OF SALE  \n",
       "count                           39004  \n",
       "unique                            117  \n",
       "top                                R4  \n",
       "freq                             8922  "
      ]
     },
     "metadata": {},
     "execution_count": 144
    }
   ],
   "metadata": {}
  },
  {
   "cell_type": "code",
   "execution_count": null,
   "source": [
    "'''Data Pre Processing\r\n",
    "Let's see our dataset again'''\r\n",
    "\r\n",
    "del data['ADDRESS']\r\n",
    "del data['APARTMENT NUMBER']"
   ],
   "outputs": [],
   "metadata": {}
  },
  {
   "cell_type": "code",
   "execution_count": null,
   "source": [
    "data.info()"
   ],
   "outputs": [
    {
     "output_type": "stream",
     "name": "stdout",
     "text": [
      "<class 'pandas.core.frame.DataFrame'>\n",
      "Int64Index: 39004 entries, 3 to 84545\n",
      "Data columns (total 17 columns):\n",
      " #   Column                          Non-Null Count  Dtype   \n",
      "---  ------                          --------------  -----   \n",
      " 0   BOROUGH                         39004 non-null  category\n",
      " 1   NEIGHBORHOOD                    39004 non-null  object  \n",
      " 2   BUILDING CLASS CATEGORY         39004 non-null  object  \n",
      " 3   TAX CLASS AT PRESENT            39004 non-null  category\n",
      " 4   BLOCK                           39004 non-null  int64   \n",
      " 5   LOT                             39004 non-null  int64   \n",
      " 6   BUILDING CLASS AT PRESENT       39004 non-null  object  \n",
      " 7   ZIP CODE                        39004 non-null  int64   \n",
      " 8   RESIDENTIAL UNITS               39004 non-null  int64   \n",
      " 9   COMMERCIAL UNITS                39004 non-null  int64   \n",
      " 10  TOTAL UNITS                     39004 non-null  int64   \n",
      " 11  LAND SQUARE FEET                39004 non-null  float64 \n",
      " 12  GROSS SQUARE FEET               39004 non-null  float64 \n",
      " 13  YEAR BUILT                      39004 non-null  int64   \n",
      " 14  TAX CLASS AT TIME OF SALE       39004 non-null  category\n",
      " 15  BUILDING CLASS AT TIME OF SALE  39004 non-null  object  \n",
      " 16  SALE PRICE                      39004 non-null  float64 \n",
      "dtypes: category(3), float64(3), int64(7), object(4)\n",
      "memory usage: 4.6+ MB\n"
     ]
    }
   ],
   "metadata": {}
  },
  {
   "cell_type": "code",
   "execution_count": null,
   "source": [
    "#transform the numeric features using log(x + 1)\r\n",
    "from scipy.stats import skew\r\n",
    "skewed = data[numeric_data.columns].apply(lambda x: skew(x.dropna().astype(float)))\r\n",
    "skewed = skewed[skewed > 0.75]\r\n",
    "skewed = skewed.index\r\n",
    "data[skewed] = np.log1p(data[skewed])"
   ],
   "outputs": [],
   "metadata": {}
  },
  {
   "cell_type": "code",
   "execution_count": null,
   "source": [
    "scaler = StandardScaler()\r\n",
    "scaler.fit(data[numeric_data.columns])\r\n",
    "scaled = scaler.transform(data[numeric_data.columns])\r\n",
    "\r\n",
    "for i, col in enumerate(numeric_data.columns):\r\n",
    "       data[col] = scaled[:,i]\r\n",
    "\r\n",
    "data.head()"
   ],
   "outputs": [
    {
     "output_type": "execute_result",
     "data": {
      "text/html": [
       "<div>\n",
       "<style scoped>\n",
       "    .dataframe tbody tr th:only-of-type {\n",
       "        vertical-align: middle;\n",
       "    }\n",
       "\n",
       "    .dataframe tbody tr th {\n",
       "        vertical-align: top;\n",
       "    }\n",
       "\n",
       "    .dataframe thead th {\n",
       "        text-align: right;\n",
       "    }\n",
       "</style>\n",
       "<table border=\"1\" class=\"dataframe\">\n",
       "  <thead>\n",
       "    <tr style=\"text-align: right;\">\n",
       "      <th></th>\n",
       "      <th>BOROUGH</th>\n",
       "      <th>NEIGHBORHOOD</th>\n",
       "      <th>BUILDING CLASS CATEGORY</th>\n",
       "      <th>TAX CLASS AT PRESENT</th>\n",
       "      <th>BLOCK</th>\n",
       "      <th>LOT</th>\n",
       "      <th>BUILDING CLASS AT PRESENT</th>\n",
       "      <th>ZIP CODE</th>\n",
       "      <th>RESIDENTIAL UNITS</th>\n",
       "      <th>COMMERCIAL UNITS</th>\n",
       "      <th>TOTAL UNITS</th>\n",
       "      <th>LAND SQUARE FEET</th>\n",
       "      <th>GROSS SQUARE FEET</th>\n",
       "      <th>YEAR BUILT</th>\n",
       "      <th>TAX CLASS AT TIME OF SALE</th>\n",
       "      <th>BUILDING CLASS AT TIME OF SALE</th>\n",
       "      <th>SALE PRICE</th>\n",
       "    </tr>\n",
       "  </thead>\n",
       "  <tbody>\n",
       "    <tr>\n",
       "      <th>3</th>\n",
       "      <td>1</td>\n",
       "      <td>ALPHABET CITY</td>\n",
       "      <td>07 RENTALS - WALKUP APARTMENTS</td>\n",
       "      <td>2B</td>\n",
       "      <td>-1.554798</td>\n",
       "      <td>-0.859725</td>\n",
       "      <td>C4</td>\n",
       "      <td>-1.433303</td>\n",
       "      <td>4.107235</td>\n",
       "      <td>-0.211188</td>\n",
       "      <td>4.200258</td>\n",
       "      <td>0.235594</td>\n",
       "      <td>0.787268</td>\n",
       "      <td>0.173754</td>\n",
       "      <td>2</td>\n",
       "      <td>C4</td>\n",
       "      <td>2.432819</td>\n",
       "    </tr>\n",
       "    <tr>\n",
       "      <th>6</th>\n",
       "      <td>1</td>\n",
       "      <td>ALPHABET CITY</td>\n",
       "      <td>07 RENTALS - WALKUP APARTMENTS</td>\n",
       "      <td>2B</td>\n",
       "      <td>-1.546973</td>\n",
       "      <td>-0.642582</td>\n",
       "      <td>C4</td>\n",
       "      <td>-1.433303</td>\n",
       "      <td>3.568687</td>\n",
       "      <td>-0.211188</td>\n",
       "      <td>3.636677</td>\n",
       "      <td>0.131654</td>\n",
       "      <td>0.594060</td>\n",
       "      <td>0.188489</td>\n",
       "      <td>2</td>\n",
       "      <td>C4</td>\n",
       "      <td>2.132408</td>\n",
       "    </tr>\n",
       "    <tr>\n",
       "      <th>76</th>\n",
       "      <td>1</td>\n",
       "      <td>ALPHABET CITY</td>\n",
       "      <td>12 CONDOS - WALKUP APARTMENTS</td>\n",
       "      <td>2</td>\n",
       "      <td>-1.586894</td>\n",
       "      <td>1.185890</td>\n",
       "      <td>R2</td>\n",
       "      <td>-1.433303</td>\n",
       "      <td>-0.467861</td>\n",
       "      <td>-0.211188</td>\n",
       "      <td>-0.587507</td>\n",
       "      <td>0.446496</td>\n",
       "      <td>0.560544</td>\n",
       "      <td>-3.853023</td>\n",
       "      <td>2</td>\n",
       "      <td>R2</td>\n",
       "      <td>-0.219736</td>\n",
       "    </tr>\n",
       "    <tr>\n",
       "      <th>79</th>\n",
       "      <td>1</td>\n",
       "      <td>ALPHABET CITY</td>\n",
       "      <td>13 CONDOS - ELEVATOR APARTMENTS</td>\n",
       "      <td>2</td>\n",
       "      <td>-1.613965</td>\n",
       "      <td>1.186424</td>\n",
       "      <td>R4</td>\n",
       "      <td>-1.433303</td>\n",
       "      <td>-0.467861</td>\n",
       "      <td>-0.211188</td>\n",
       "      <td>-0.587507</td>\n",
       "      <td>0.446496</td>\n",
       "      <td>0.560544</td>\n",
       "      <td>0.188489</td>\n",
       "      <td>2</td>\n",
       "      <td>R4</td>\n",
       "      <td>0.077491</td>\n",
       "    </tr>\n",
       "    <tr>\n",
       "      <th>80</th>\n",
       "      <td>1</td>\n",
       "      <td>ALPHABET CITY</td>\n",
       "      <td>13 CONDOS - ELEVATOR APARTMENTS</td>\n",
       "      <td>2</td>\n",
       "      <td>-1.613965</td>\n",
       "      <td>1.186957</td>\n",
       "      <td>R4</td>\n",
       "      <td>-1.433303</td>\n",
       "      <td>-0.467861</td>\n",
       "      <td>-0.211188</td>\n",
       "      <td>-0.587507</td>\n",
       "      <td>0.446496</td>\n",
       "      <td>0.560544</td>\n",
       "      <td>0.188489</td>\n",
       "      <td>2</td>\n",
       "      <td>R4</td>\n",
       "      <td>0.096524</td>\n",
       "    </tr>\n",
       "  </tbody>\n",
       "</table>\n",
       "</div>"
      ],
      "text/plain": [
       "   BOROUGH   NEIGHBORHOOD                      BUILDING CLASS CATEGORY  \\\n",
       "3        1  ALPHABET CITY  07 RENTALS - WALKUP APARTMENTS                \n",
       "6        1  ALPHABET CITY  07 RENTALS - WALKUP APARTMENTS                \n",
       "76       1  ALPHABET CITY  12 CONDOS - WALKUP APARTMENTS                 \n",
       "79       1  ALPHABET CITY  13 CONDOS - ELEVATOR APARTMENTS               \n",
       "80       1  ALPHABET CITY  13 CONDOS - ELEVATOR APARTMENTS               \n",
       "\n",
       "   TAX CLASS AT PRESENT     BLOCK       LOT BUILDING CLASS AT PRESENT  \\\n",
       "3                    2B -1.554798 -0.859725                        C4   \n",
       "6                    2B -1.546973 -0.642582                        C4   \n",
       "76                    2 -1.586894  1.185890                        R2   \n",
       "79                    2 -1.613965  1.186424                        R4   \n",
       "80                    2 -1.613965  1.186957                        R4   \n",
       "\n",
       "    ZIP CODE  RESIDENTIAL UNITS  COMMERCIAL UNITS  TOTAL UNITS  \\\n",
       "3  -1.433303           4.107235         -0.211188     4.200258   \n",
       "6  -1.433303           3.568687         -0.211188     3.636677   \n",
       "76 -1.433303          -0.467861         -0.211188    -0.587507   \n",
       "79 -1.433303          -0.467861         -0.211188    -0.587507   \n",
       "80 -1.433303          -0.467861         -0.211188    -0.587507   \n",
       "\n",
       "    LAND SQUARE FEET  GROSS SQUARE FEET  YEAR BUILT TAX CLASS AT TIME OF SALE  \\\n",
       "3           0.235594           0.787268    0.173754                         2   \n",
       "6           0.131654           0.594060    0.188489                         2   \n",
       "76          0.446496           0.560544   -3.853023                         2   \n",
       "79          0.446496           0.560544    0.188489                         2   \n",
       "80          0.446496           0.560544    0.188489                         2   \n",
       "\n",
       "   BUILDING CLASS AT TIME OF SALE  SALE PRICE  \n",
       "3                              C4    2.432819  \n",
       "6                              C4    2.132408  \n",
       "76                             R2   -0.219736  \n",
       "79                             R4    0.077491  \n",
       "80                             R4    0.096524  "
      ]
     },
     "metadata": {},
     "execution_count": 148
    }
   ],
   "metadata": {}
  },
  {
   "cell_type": "code",
   "execution_count": null,
   "source": [
    "data.info()"
   ],
   "outputs": [
    {
     "output_type": "stream",
     "name": "stdout",
     "text": [
      "<class 'pandas.core.frame.DataFrame'>\n",
      "Int64Index: 39004 entries, 3 to 84545\n",
      "Data columns (total 17 columns):\n",
      " #   Column                          Non-Null Count  Dtype   \n",
      "---  ------                          --------------  -----   \n",
      " 0   BOROUGH                         39004 non-null  category\n",
      " 1   NEIGHBORHOOD                    39004 non-null  object  \n",
      " 2   BUILDING CLASS CATEGORY         39004 non-null  object  \n",
      " 3   TAX CLASS AT PRESENT            39004 non-null  category\n",
      " 4   BLOCK                           39004 non-null  float64 \n",
      " 5   LOT                             39004 non-null  float64 \n",
      " 6   BUILDING CLASS AT PRESENT       39004 non-null  object  \n",
      " 7   ZIP CODE                        39004 non-null  float64 \n",
      " 8   RESIDENTIAL UNITS               39004 non-null  float64 \n",
      " 9   COMMERCIAL UNITS                39004 non-null  float64 \n",
      " 10  TOTAL UNITS                     39004 non-null  float64 \n",
      " 11  LAND SQUARE FEET                39004 non-null  float64 \n",
      " 12  GROSS SQUARE FEET               39004 non-null  float64 \n",
      " 13  YEAR BUILT                      39004 non-null  float64 \n",
      " 14  TAX CLASS AT TIME OF SALE       39004 non-null  category\n",
      " 15  BUILDING CLASS AT TIME OF SALE  39004 non-null  object  \n",
      " 16  SALE PRICE                      39004 non-null  float64 \n",
      "dtypes: category(3), float64(10), object(4)\n",
      "memory usage: 4.6+ MB\n"
     ]
    }
   ],
   "metadata": {}
  },
  {
   "cell_type": "code",
   "execution_count": null,
   "source": [
    "del data['BUILDING CLASS AT PRESENT']\r\n",
    "del data['BUILDING CLASS AT TIME OF SALE']\r\n",
    "del data['NEIGHBORHOOD']\r\n",
    "\r\n",
    "#Select the variables to be one-hot encoded\r\n",
    "one_hot_features = ['BOROUGH', 'BUILDING CLASS CATEGORY','TAX CLASS AT PRESENT','TAX CLASS AT TIME OF SALE']"
   ],
   "outputs": [],
   "metadata": {}
  },
  {
   "cell_type": "code",
   "execution_count": null,
   "source": [
    "# Convert categorical variables into dummy/indicator variables (i.e. one-hot encoding).\r\n",
    "one_hot_encoded = pd.get_dummies(data[one_hot_features])\r\n",
    "one_hot_encoded.info(verbose=True, memory_usage=True, null_counts=True)"
   ],
   "outputs": [
    {
     "output_type": "stream",
     "name": "stdout",
     "text": [
      "<class 'pandas.core.frame.DataFrame'>\n",
      "Int64Index: 39004 entries, 3 to 84545\n",
      "Data columns (total 58 columns):\n",
      " #   Column                                                                Non-Null Count  Dtype\n",
      "---  ------                                                                --------------  -----\n",
      " 0   BOROUGH_1                                                             39004 non-null  uint8\n",
      " 1   BOROUGH_2                                                             39004 non-null  uint8\n",
      " 2   BOROUGH_3                                                             39004 non-null  uint8\n",
      " 3   BOROUGH_4                                                             39004 non-null  uint8\n",
      " 4   BOROUGH_5                                                             39004 non-null  uint8\n",
      " 5   BUILDING CLASS CATEGORY_01 ONE FAMILY DWELLINGS                       39004 non-null  uint8\n",
      " 6   BUILDING CLASS CATEGORY_02 TWO FAMILY DWELLINGS                       39004 non-null  uint8\n",
      " 7   BUILDING CLASS CATEGORY_03 THREE FAMILY DWELLINGS                     39004 non-null  uint8\n",
      " 8   BUILDING CLASS CATEGORY_04 TAX CLASS 1 CONDOS                         39004 non-null  uint8\n",
      " 9   BUILDING CLASS CATEGORY_05 TAX CLASS 1 VACANT LAND                    39004 non-null  uint8\n",
      " 10  BUILDING CLASS CATEGORY_06 TAX CLASS 1 - OTHER                        39004 non-null  uint8\n",
      " 11  BUILDING CLASS CATEGORY_07 RENTALS - WALKUP APARTMENTS                39004 non-null  uint8\n",
      " 12  BUILDING CLASS CATEGORY_08 RENTALS - ELEVATOR APARTMENTS              39004 non-null  uint8\n",
      " 13  BUILDING CLASS CATEGORY_09 COOPS - WALKUP APARTMENTS                  39004 non-null  uint8\n",
      " 14  BUILDING CLASS CATEGORY_10 COOPS - ELEVATOR APARTMENTS                39004 non-null  uint8\n",
      " 15  BUILDING CLASS CATEGORY_11A CONDO-RENTALS                             39004 non-null  uint8\n",
      " 16  BUILDING CLASS CATEGORY_12 CONDOS - WALKUP APARTMENTS                 39004 non-null  uint8\n",
      " 17  BUILDING CLASS CATEGORY_13 CONDOS - ELEVATOR APARTMENTS               39004 non-null  uint8\n",
      " 18  BUILDING CLASS CATEGORY_14 RENTALS - 4-10 UNIT                        39004 non-null  uint8\n",
      " 19  BUILDING CLASS CATEGORY_15 CONDOS - 2-10 UNIT RESIDENTIAL             39004 non-null  uint8\n",
      " 20  BUILDING CLASS CATEGORY_16 CONDOS - 2-10 UNIT WITH COMMERCIAL UNIT    39004 non-null  uint8\n",
      " 21  BUILDING CLASS CATEGORY_21 OFFICE BUILDINGS                           39004 non-null  uint8\n",
      " 22  BUILDING CLASS CATEGORY_22 STORE BUILDINGS                            39004 non-null  uint8\n",
      " 23  BUILDING CLASS CATEGORY_23 LOFT BUILDINGS                             39004 non-null  uint8\n",
      " 24  BUILDING CLASS CATEGORY_26 OTHER HOTELS                               39004 non-null  uint8\n",
      " 25  BUILDING CLASS CATEGORY_27 FACTORIES                                  39004 non-null  uint8\n",
      " 26  BUILDING CLASS CATEGORY_28 COMMERCIAL CONDOS                          39004 non-null  uint8\n",
      " 27  BUILDING CLASS CATEGORY_29 COMMERCIAL GARAGES                         39004 non-null  uint8\n",
      " 28  BUILDING CLASS CATEGORY_30 WAREHOUSES                                 39004 non-null  uint8\n",
      " 29  BUILDING CLASS CATEGORY_31 COMMERCIAL VACANT LAND                     39004 non-null  uint8\n",
      " 30  BUILDING CLASS CATEGORY_32 HOSPITAL AND HEALTH FACILITIES             39004 non-null  uint8\n",
      " 31  BUILDING CLASS CATEGORY_33 EDUCATIONAL FACILITIES                     39004 non-null  uint8\n",
      " 32  BUILDING CLASS CATEGORY_35 INDOOR PUBLIC AND CULTURAL FACILITIES      39004 non-null  uint8\n",
      " 33  BUILDING CLASS CATEGORY_37 RELIGIOUS FACILITIES                       39004 non-null  uint8\n",
      " 34  BUILDING CLASS CATEGORY_38 ASYLUMS AND HOMES                          39004 non-null  uint8\n",
      " 35  BUILDING CLASS CATEGORY_41 TAX CLASS 4 - OTHER                        39004 non-null  uint8\n",
      " 36  BUILDING CLASS CATEGORY_42 CONDO CULTURAL/MEDICAL/EDUCATIONAL/ETC     39004 non-null  uint8\n",
      " 37  BUILDING CLASS CATEGORY_43 CONDO OFFICE BUILDINGS                     39004 non-null  uint8\n",
      " 38  BUILDING CLASS CATEGORY_44 CONDO PARKING                              39004 non-null  uint8\n",
      " 39  BUILDING CLASS CATEGORY_45 CONDO HOTELS                               39004 non-null  uint8\n",
      " 40  BUILDING CLASS CATEGORY_46 CONDO STORE BUILDINGS                      39004 non-null  uint8\n",
      " 41  BUILDING CLASS CATEGORY_47 CONDO NON-BUSINESS STORAGE                 39004 non-null  uint8\n",
      " 42  BUILDING CLASS CATEGORY_48 CONDO TERRACES/GARDENS/CABANAS             39004 non-null  uint8\n",
      " 43  TAX CLASS AT PRESENT_                                                 39004 non-null  uint8\n",
      " 44  TAX CLASS AT PRESENT_1                                                39004 non-null  uint8\n",
      " 45  TAX CLASS AT PRESENT_1A                                               39004 non-null  uint8\n",
      " 46  TAX CLASS AT PRESENT_1B                                               39004 non-null  uint8\n",
      " 47  TAX CLASS AT PRESENT_1C                                               39004 non-null  uint8\n",
      " 48  TAX CLASS AT PRESENT_2                                                39004 non-null  uint8\n",
      " 49  TAX CLASS AT PRESENT_2A                                               39004 non-null  uint8\n",
      " 50  TAX CLASS AT PRESENT_2B                                               39004 non-null  uint8\n",
      " 51  TAX CLASS AT PRESENT_2C                                               39004 non-null  uint8\n",
      " 52  TAX CLASS AT PRESENT_3                                                39004 non-null  uint8\n",
      " 53  TAX CLASS AT PRESENT_4                                                39004 non-null  uint8\n",
      " 54  TAX CLASS AT TIME OF SALE_1                                           39004 non-null  uint8\n",
      " 55  TAX CLASS AT TIME OF SALE_2                                           39004 non-null  uint8\n",
      " 56  TAX CLASS AT TIME OF SALE_3                                           39004 non-null  uint8\n",
      " 57  TAX CLASS AT TIME OF SALE_4                                           39004 non-null  uint8\n",
      "dtypes: uint8(58)\n",
      "memory usage: 2.5 MB\n"
     ]
    }
   ],
   "metadata": {}
  },
  {
   "cell_type": "code",
   "execution_count": null,
   "source": [
    "# Replacing categorical columns with dummies\r\n",
    "fdf = data.drop(one_hot_features,axis=1)\r\n",
    "fdf = pd.concat([fdf, one_hot_encoded] ,axis=1)\r\n",
    "fdf.info()"
   ],
   "outputs": [
    {
     "output_type": "stream",
     "name": "stdout",
     "text": [
      "<class 'pandas.core.frame.DataFrame'>\n",
      "Int64Index: 39004 entries, 3 to 84545\n",
      "Data columns (total 68 columns):\n",
      " #   Column                                                                Non-Null Count  Dtype  \n",
      "---  ------                                                                --------------  -----  \n",
      " 0   BLOCK                                                                 39004 non-null  float64\n",
      " 1   LOT                                                                   39004 non-null  float64\n",
      " 2   ZIP CODE                                                              39004 non-null  float64\n",
      " 3   RESIDENTIAL UNITS                                                     39004 non-null  float64\n",
      " 4   COMMERCIAL UNITS                                                      39004 non-null  float64\n",
      " 5   TOTAL UNITS                                                           39004 non-null  float64\n",
      " 6   LAND SQUARE FEET                                                      39004 non-null  float64\n",
      " 7   GROSS SQUARE FEET                                                     39004 non-null  float64\n",
      " 8   YEAR BUILT                                                            39004 non-null  float64\n",
      " 9   SALE PRICE                                                            39004 non-null  float64\n",
      " 10  BOROUGH_1                                                             39004 non-null  uint8  \n",
      " 11  BOROUGH_2                                                             39004 non-null  uint8  \n",
      " 12  BOROUGH_3                                                             39004 non-null  uint8  \n",
      " 13  BOROUGH_4                                                             39004 non-null  uint8  \n",
      " 14  BOROUGH_5                                                             39004 non-null  uint8  \n",
      " 15  BUILDING CLASS CATEGORY_01 ONE FAMILY DWELLINGS                       39004 non-null  uint8  \n",
      " 16  BUILDING CLASS CATEGORY_02 TWO FAMILY DWELLINGS                       39004 non-null  uint8  \n",
      " 17  BUILDING CLASS CATEGORY_03 THREE FAMILY DWELLINGS                     39004 non-null  uint8  \n",
      " 18  BUILDING CLASS CATEGORY_04 TAX CLASS 1 CONDOS                         39004 non-null  uint8  \n",
      " 19  BUILDING CLASS CATEGORY_05 TAX CLASS 1 VACANT LAND                    39004 non-null  uint8  \n",
      " 20  BUILDING CLASS CATEGORY_06 TAX CLASS 1 - OTHER                        39004 non-null  uint8  \n",
      " 21  BUILDING CLASS CATEGORY_07 RENTALS - WALKUP APARTMENTS                39004 non-null  uint8  \n",
      " 22  BUILDING CLASS CATEGORY_08 RENTALS - ELEVATOR APARTMENTS              39004 non-null  uint8  \n",
      " 23  BUILDING CLASS CATEGORY_09 COOPS - WALKUP APARTMENTS                  39004 non-null  uint8  \n",
      " 24  BUILDING CLASS CATEGORY_10 COOPS - ELEVATOR APARTMENTS                39004 non-null  uint8  \n",
      " 25  BUILDING CLASS CATEGORY_11A CONDO-RENTALS                             39004 non-null  uint8  \n",
      " 26  BUILDING CLASS CATEGORY_12 CONDOS - WALKUP APARTMENTS                 39004 non-null  uint8  \n",
      " 27  BUILDING CLASS CATEGORY_13 CONDOS - ELEVATOR APARTMENTS               39004 non-null  uint8  \n",
      " 28  BUILDING CLASS CATEGORY_14 RENTALS - 4-10 UNIT                        39004 non-null  uint8  \n",
      " 29  BUILDING CLASS CATEGORY_15 CONDOS - 2-10 UNIT RESIDENTIAL             39004 non-null  uint8  \n",
      " 30  BUILDING CLASS CATEGORY_16 CONDOS - 2-10 UNIT WITH COMMERCIAL UNIT    39004 non-null  uint8  \n",
      " 31  BUILDING CLASS CATEGORY_21 OFFICE BUILDINGS                           39004 non-null  uint8  \n",
      " 32  BUILDING CLASS CATEGORY_22 STORE BUILDINGS                            39004 non-null  uint8  \n",
      " 33  BUILDING CLASS CATEGORY_23 LOFT BUILDINGS                             39004 non-null  uint8  \n",
      " 34  BUILDING CLASS CATEGORY_26 OTHER HOTELS                               39004 non-null  uint8  \n",
      " 35  BUILDING CLASS CATEGORY_27 FACTORIES                                  39004 non-null  uint8  \n",
      " 36  BUILDING CLASS CATEGORY_28 COMMERCIAL CONDOS                          39004 non-null  uint8  \n",
      " 37  BUILDING CLASS CATEGORY_29 COMMERCIAL GARAGES                         39004 non-null  uint8  \n",
      " 38  BUILDING CLASS CATEGORY_30 WAREHOUSES                                 39004 non-null  uint8  \n",
      " 39  BUILDING CLASS CATEGORY_31 COMMERCIAL VACANT LAND                     39004 non-null  uint8  \n",
      " 40  BUILDING CLASS CATEGORY_32 HOSPITAL AND HEALTH FACILITIES             39004 non-null  uint8  \n",
      " 41  BUILDING CLASS CATEGORY_33 EDUCATIONAL FACILITIES                     39004 non-null  uint8  \n",
      " 42  BUILDING CLASS CATEGORY_35 INDOOR PUBLIC AND CULTURAL FACILITIES      39004 non-null  uint8  \n",
      " 43  BUILDING CLASS CATEGORY_37 RELIGIOUS FACILITIES                       39004 non-null  uint8  \n",
      " 44  BUILDING CLASS CATEGORY_38 ASYLUMS AND HOMES                          39004 non-null  uint8  \n",
      " 45  BUILDING CLASS CATEGORY_41 TAX CLASS 4 - OTHER                        39004 non-null  uint8  \n",
      " 46  BUILDING CLASS CATEGORY_42 CONDO CULTURAL/MEDICAL/EDUCATIONAL/ETC     39004 non-null  uint8  \n",
      " 47  BUILDING CLASS CATEGORY_43 CONDO OFFICE BUILDINGS                     39004 non-null  uint8  \n",
      " 48  BUILDING CLASS CATEGORY_44 CONDO PARKING                              39004 non-null  uint8  \n",
      " 49  BUILDING CLASS CATEGORY_45 CONDO HOTELS                               39004 non-null  uint8  \n",
      " 50  BUILDING CLASS CATEGORY_46 CONDO STORE BUILDINGS                      39004 non-null  uint8  \n",
      " 51  BUILDING CLASS CATEGORY_47 CONDO NON-BUSINESS STORAGE                 39004 non-null  uint8  \n",
      " 52  BUILDING CLASS CATEGORY_48 CONDO TERRACES/GARDENS/CABANAS             39004 non-null  uint8  \n",
      " 53  TAX CLASS AT PRESENT_                                                 39004 non-null  uint8  \n",
      " 54  TAX CLASS AT PRESENT_1                                                39004 non-null  uint8  \n",
      " 55  TAX CLASS AT PRESENT_1A                                               39004 non-null  uint8  \n",
      " 56  TAX CLASS AT PRESENT_1B                                               39004 non-null  uint8  \n",
      " 57  TAX CLASS AT PRESENT_1C                                               39004 non-null  uint8  \n",
      " 58  TAX CLASS AT PRESENT_2                                                39004 non-null  uint8  \n",
      " 59  TAX CLASS AT PRESENT_2A                                               39004 non-null  uint8  \n",
      " 60  TAX CLASS AT PRESENT_2B                                               39004 non-null  uint8  \n",
      " 61  TAX CLASS AT PRESENT_2C                                               39004 non-null  uint8  \n",
      " 62  TAX CLASS AT PRESENT_3                                                39004 non-null  uint8  \n",
      " 63  TAX CLASS AT PRESENT_4                                                39004 non-null  uint8  \n",
      " 64  TAX CLASS AT TIME OF SALE_1                                           39004 non-null  uint8  \n",
      " 65  TAX CLASS AT TIME OF SALE_2                                           39004 non-null  uint8  \n",
      " 66  TAX CLASS AT TIME OF SALE_3                                           39004 non-null  uint8  \n",
      " 67  TAX CLASS AT TIME OF SALE_4                                           39004 non-null  uint8  \n",
      "dtypes: float64(10), uint8(58)\n",
      "memory usage: 5.4 MB\n"
     ]
    }
   ],
   "metadata": {}
  },
  {
   "cell_type": "code",
   "execution_count": null,
   "source": [
    "fdf.describe()"
   ],
   "outputs": [
    {
     "output_type": "execute_result",
     "data": {
      "text/html": [
       "<div>\n",
       "<style scoped>\n",
       "    .dataframe tbody tr th:only-of-type {\n",
       "        vertical-align: middle;\n",
       "    }\n",
       "\n",
       "    .dataframe tbody tr th {\n",
       "        vertical-align: top;\n",
       "    }\n",
       "\n",
       "    .dataframe thead th {\n",
       "        text-align: right;\n",
       "    }\n",
       "</style>\n",
       "<table border=\"1\" class=\"dataframe\">\n",
       "  <thead>\n",
       "    <tr style=\"text-align: right;\">\n",
       "      <th></th>\n",
       "      <th>BLOCK</th>\n",
       "      <th>LOT</th>\n",
       "      <th>ZIP CODE</th>\n",
       "      <th>RESIDENTIAL UNITS</th>\n",
       "      <th>COMMERCIAL UNITS</th>\n",
       "      <th>TOTAL UNITS</th>\n",
       "      <th>LAND SQUARE FEET</th>\n",
       "      <th>GROSS SQUARE FEET</th>\n",
       "      <th>YEAR BUILT</th>\n",
       "      <th>SALE PRICE</th>\n",
       "      <th>...</th>\n",
       "      <th>TAX CLASS AT PRESENT_2</th>\n",
       "      <th>TAX CLASS AT PRESENT_2A</th>\n",
       "      <th>TAX CLASS AT PRESENT_2B</th>\n",
       "      <th>TAX CLASS AT PRESENT_2C</th>\n",
       "      <th>TAX CLASS AT PRESENT_3</th>\n",
       "      <th>TAX CLASS AT PRESENT_4</th>\n",
       "      <th>TAX CLASS AT TIME OF SALE_1</th>\n",
       "      <th>TAX CLASS AT TIME OF SALE_2</th>\n",
       "      <th>TAX CLASS AT TIME OF SALE_3</th>\n",
       "      <th>TAX CLASS AT TIME OF SALE_4</th>\n",
       "    </tr>\n",
       "  </thead>\n",
       "  <tbody>\n",
       "    <tr>\n",
       "      <th>count</th>\n",
       "      <td>3.900400e+04</td>\n",
       "      <td>3.900400e+04</td>\n",
       "      <td>3.900400e+04</td>\n",
       "      <td>3.900400e+04</td>\n",
       "      <td>3.900400e+04</td>\n",
       "      <td>3.900400e+04</td>\n",
       "      <td>3.900400e+04</td>\n",
       "      <td>3.900400e+04</td>\n",
       "      <td>3.900400e+04</td>\n",
       "      <td>3.900400e+04</td>\n",
       "      <td>...</td>\n",
       "      <td>39004.000000</td>\n",
       "      <td>39004.000000</td>\n",
       "      <td>39004.000000</td>\n",
       "      <td>39004.000000</td>\n",
       "      <td>39004.0</td>\n",
       "      <td>39004.000000</td>\n",
       "      <td>39004.000000</td>\n",
       "      <td>39004.000000</td>\n",
       "      <td>39004.0</td>\n",
       "      <td>39004.000000</td>\n",
       "    </tr>\n",
       "    <tr>\n",
       "      <th>mean</th>\n",
       "      <td>7.809601e-15</td>\n",
       "      <td>-1.317209e-14</td>\n",
       "      <td>7.560122e-15</td>\n",
       "      <td>-1.800308e-14</td>\n",
       "      <td>-7.978903e-15</td>\n",
       "      <td>4.306091e-15</td>\n",
       "      <td>-2.735572e-14</td>\n",
       "      <td>1.729280e-16</td>\n",
       "      <td>-2.055287e-14</td>\n",
       "      <td>6.726840e-15</td>\n",
       "      <td>...</td>\n",
       "      <td>0.250846</td>\n",
       "      <td>0.029920</td>\n",
       "      <td>0.007871</td>\n",
       "      <td>0.024536</td>\n",
       "      <td>0.0</td>\n",
       "      <td>0.033612</td>\n",
       "      <td>0.653113</td>\n",
       "      <td>0.313199</td>\n",
       "      <td>0.0</td>\n",
       "      <td>0.033689</td>\n",
       "    </tr>\n",
       "    <tr>\n",
       "      <th>std</th>\n",
       "      <td>1.000013e+00</td>\n",
       "      <td>1.000013e+00</td>\n",
       "      <td>1.000013e+00</td>\n",
       "      <td>1.000013e+00</td>\n",
       "      <td>1.000013e+00</td>\n",
       "      <td>1.000013e+00</td>\n",
       "      <td>1.000013e+00</td>\n",
       "      <td>1.000013e+00</td>\n",
       "      <td>1.000013e+00</td>\n",
       "      <td>1.000013e+00</td>\n",
       "      <td>...</td>\n",
       "      <td>0.433506</td>\n",
       "      <td>0.170369</td>\n",
       "      <td>0.088370</td>\n",
       "      <td>0.154708</td>\n",
       "      <td>0.0</td>\n",
       "      <td>0.180230</td>\n",
       "      <td>0.475986</td>\n",
       "      <td>0.463800</td>\n",
       "      <td>0.0</td>\n",
       "      <td>0.180429</td>\n",
       "    </tr>\n",
       "    <tr>\n",
       "      <th>min</th>\n",
       "      <td>-5.758427e+00</td>\n",
       "      <td>-2.143900e+00</td>\n",
       "      <td>-1.752064e+01</td>\n",
       "      <td>-2.328086e+00</td>\n",
       "      <td>-2.111884e-01</td>\n",
       "      <td>-5.875072e-01</td>\n",
       "      <td>-2.843333e+00</td>\n",
       "      <td>-2.804219e+00</td>\n",
       "      <td>-3.853023e+00</td>\n",
       "      <td>-2.828228e+00</td>\n",
       "      <td>...</td>\n",
       "      <td>0.000000</td>\n",
       "      <td>0.000000</td>\n",
       "      <td>0.000000</td>\n",
       "      <td>0.000000</td>\n",
       "      <td>0.0</td>\n",
       "      <td>0.000000</td>\n",
       "      <td>0.000000</td>\n",
       "      <td>0.000000</td>\n",
       "      <td>0.0</td>\n",
       "      <td>0.000000</td>\n",
       "    </tr>\n",
       "    <tr>\n",
       "      <th>25%</th>\n",
       "      <td>-4.962865e-01</td>\n",
       "      <td>-7.117800e-01</td>\n",
       "      <td>-9.462951e-01</td>\n",
       "      <td>-4.678610e-01</td>\n",
       "      <td>-2.111884e-01</td>\n",
       "      <td>-5.875072e-01</td>\n",
       "      <td>1.763696e-01</td>\n",
       "      <td>1.081428e-01</td>\n",
       "      <td>1.884885e-01</td>\n",
       "      <td>-6.481199e-01</td>\n",
       "      <td>...</td>\n",
       "      <td>0.000000</td>\n",
       "      <td>0.000000</td>\n",
       "      <td>0.000000</td>\n",
       "      <td>0.000000</td>\n",
       "      <td>0.0</td>\n",
       "      <td>0.000000</td>\n",
       "      <td>0.000000</td>\n",
       "      <td>0.000000</td>\n",
       "      <td>0.0</td>\n",
       "      <td>0.000000</td>\n",
       "    </tr>\n",
       "    <tr>\n",
       "      <th>50%</th>\n",
       "      <td>2.657318e-01</td>\n",
       "      <td>-2.962854e-01</td>\n",
       "      <td>5.034777e-01</td>\n",
       "      <td>-4.678610e-01</td>\n",
       "      <td>-2.111884e-01</td>\n",
       "      <td>-5.875072e-01</td>\n",
       "      <td>2.953714e-01</td>\n",
       "      <td>2.896745e-01</td>\n",
       "      <td>2.305876e-01</td>\n",
       "      <td>-7.038073e-02</td>\n",
       "      <td>...</td>\n",
       "      <td>0.000000</td>\n",
       "      <td>0.000000</td>\n",
       "      <td>0.000000</td>\n",
       "      <td>0.000000</td>\n",
       "      <td>0.0</td>\n",
       "      <td>0.000000</td>\n",
       "      <td>1.000000</td>\n",
       "      <td>0.000000</td>\n",
       "      <td>0.0</td>\n",
       "      <td>0.000000</td>\n",
       "    </tr>\n",
       "    <tr>\n",
       "      <th>75%</th>\n",
       "      <td>6.839580e-01</td>\n",
       "      <td>1.199075e+00</td>\n",
       "      <td>7.381415e-01</td>\n",
       "      <td>6.203007e-01</td>\n",
       "      <td>-2.111884e-01</td>\n",
       "      <td>5.512369e-01</td>\n",
       "      <td>4.464957e-01</td>\n",
       "      <td>5.605445e-01</td>\n",
       "      <td>3.274155e-01</td>\n",
       "      <td>5.795578e-01</td>\n",
       "      <td>...</td>\n",
       "      <td>1.000000</td>\n",
       "      <td>0.000000</td>\n",
       "      <td>0.000000</td>\n",
       "      <td>0.000000</td>\n",
       "      <td>0.0</td>\n",
       "      <td>0.000000</td>\n",
       "      <td>1.000000</td>\n",
       "      <td>1.000000</td>\n",
       "      <td>0.0</td>\n",
       "      <td>0.000000</td>\n",
       "    </tr>\n",
       "    <tr>\n",
       "      <th>max</th>\n",
       "      <td>1.377567e+00</td>\n",
       "      <td>2.367322e+00</td>\n",
       "      <td>1.274975e+00</td>\n",
       "      <td>1.785425e+01</td>\n",
       "      <td>2.405923e+01</td>\n",
       "      <td>1.861958e+01</td>\n",
       "      <td>3.234687e+00</td>\n",
       "      <td>3.356955e+00</td>\n",
       "      <td>3.926691e-01</td>\n",
       "      <td>2.775207e+00</td>\n",
       "      <td>...</td>\n",
       "      <td>1.000000</td>\n",
       "      <td>1.000000</td>\n",
       "      <td>1.000000</td>\n",
       "      <td>1.000000</td>\n",
       "      <td>0.0</td>\n",
       "      <td>1.000000</td>\n",
       "      <td>1.000000</td>\n",
       "      <td>1.000000</td>\n",
       "      <td>0.0</td>\n",
       "      <td>1.000000</td>\n",
       "    </tr>\n",
       "  </tbody>\n",
       "</table>\n",
       "<p>8 rows × 68 columns</p>\n",
       "</div>"
      ],
      "text/plain": [
       "              BLOCK           LOT      ZIP CODE  RESIDENTIAL UNITS  \\\n",
       "count  3.900400e+04  3.900400e+04  3.900400e+04       3.900400e+04   \n",
       "mean   7.809601e-15 -1.317209e-14  7.560122e-15      -1.800308e-14   \n",
       "std    1.000013e+00  1.000013e+00  1.000013e+00       1.000013e+00   \n",
       "min   -5.758427e+00 -2.143900e+00 -1.752064e+01      -2.328086e+00   \n",
       "25%   -4.962865e-01 -7.117800e-01 -9.462951e-01      -4.678610e-01   \n",
       "50%    2.657318e-01 -2.962854e-01  5.034777e-01      -4.678610e-01   \n",
       "75%    6.839580e-01  1.199075e+00  7.381415e-01       6.203007e-01   \n",
       "max    1.377567e+00  2.367322e+00  1.274975e+00       1.785425e+01   \n",
       "\n",
       "       COMMERCIAL UNITS   TOTAL UNITS  LAND SQUARE FEET  GROSS SQUARE FEET  \\\n",
       "count      3.900400e+04  3.900400e+04      3.900400e+04       3.900400e+04   \n",
       "mean      -7.978903e-15  4.306091e-15     -2.735572e-14       1.729280e-16   \n",
       "std        1.000013e+00  1.000013e+00      1.000013e+00       1.000013e+00   \n",
       "min       -2.111884e-01 -5.875072e-01     -2.843333e+00      -2.804219e+00   \n",
       "25%       -2.111884e-01 -5.875072e-01      1.763696e-01       1.081428e-01   \n",
       "50%       -2.111884e-01 -5.875072e-01      2.953714e-01       2.896745e-01   \n",
       "75%       -2.111884e-01  5.512369e-01      4.464957e-01       5.605445e-01   \n",
       "max        2.405923e+01  1.861958e+01      3.234687e+00       3.356955e+00   \n",
       "\n",
       "         YEAR BUILT    SALE PRICE  ...  TAX CLASS AT PRESENT_2  \\\n",
       "count  3.900400e+04  3.900400e+04  ...            39004.000000   \n",
       "mean  -2.055287e-14  6.726840e-15  ...                0.250846   \n",
       "std    1.000013e+00  1.000013e+00  ...                0.433506   \n",
       "min   -3.853023e+00 -2.828228e+00  ...                0.000000   \n",
       "25%    1.884885e-01 -6.481199e-01  ...                0.000000   \n",
       "50%    2.305876e-01 -7.038073e-02  ...                0.000000   \n",
       "75%    3.274155e-01  5.795578e-01  ...                1.000000   \n",
       "max    3.926691e-01  2.775207e+00  ...                1.000000   \n",
       "\n",
       "       TAX CLASS AT PRESENT_2A  TAX CLASS AT PRESENT_2B  \\\n",
       "count             39004.000000             39004.000000   \n",
       "mean                  0.029920                 0.007871   \n",
       "std                   0.170369                 0.088370   \n",
       "min                   0.000000                 0.000000   \n",
       "25%                   0.000000                 0.000000   \n",
       "50%                   0.000000                 0.000000   \n",
       "75%                   0.000000                 0.000000   \n",
       "max                   1.000000                 1.000000   \n",
       "\n",
       "       TAX CLASS AT PRESENT_2C  TAX CLASS AT PRESENT_3  \\\n",
       "count             39004.000000                 39004.0   \n",
       "mean                  0.024536                     0.0   \n",
       "std                   0.154708                     0.0   \n",
       "min                   0.000000                     0.0   \n",
       "25%                   0.000000                     0.0   \n",
       "50%                   0.000000                     0.0   \n",
       "75%                   0.000000                     0.0   \n",
       "max                   1.000000                     0.0   \n",
       "\n",
       "       TAX CLASS AT PRESENT_4  TAX CLASS AT TIME OF SALE_1  \\\n",
       "count            39004.000000                 39004.000000   \n",
       "mean                 0.033612                     0.653113   \n",
       "std                  0.180230                     0.475986   \n",
       "min                  0.000000                     0.000000   \n",
       "25%                  0.000000                     0.000000   \n",
       "50%                  0.000000                     1.000000   \n",
       "75%                  0.000000                     1.000000   \n",
       "max                  1.000000                     1.000000   \n",
       "\n",
       "       TAX CLASS AT TIME OF SALE_2  TAX CLASS AT TIME OF SALE_3  \\\n",
       "count                 39004.000000                      39004.0   \n",
       "mean                      0.313199                          0.0   \n",
       "std                       0.463800                          0.0   \n",
       "min                       0.000000                          0.0   \n",
       "25%                       0.000000                          0.0   \n",
       "50%                       0.000000                          0.0   \n",
       "75%                       1.000000                          0.0   \n",
       "max                       1.000000                          0.0   \n",
       "\n",
       "       TAX CLASS AT TIME OF SALE_4  \n",
       "count                 39004.000000  \n",
       "mean                      0.033689  \n",
       "std                       0.180429  \n",
       "min                       0.000000  \n",
       "25%                       0.000000  \n",
       "50%                       0.000000  \n",
       "75%                       0.000000  \n",
       "max                       1.000000  \n",
       "\n",
       "[8 rows x 68 columns]"
      ]
     },
     "metadata": {},
     "execution_count": 153
    }
   ],
   "metadata": {}
  },
  {
   "cell_type": "code",
   "execution_count": null,
   "source": [
    "Y_fdf = fdf['SALE PRICE']\r\n",
    "X_fdf = fdf.drop('SALE PRICE', axis=1)\r\n",
    "\r\n",
    "\r\n",
    "X_fdf.shape , Y_fdf.shape"
   ],
   "outputs": [
    {
     "output_type": "execute_result",
     "data": {
      "text/plain": [
       "((39004, 67), (39004,))"
      ]
     },
     "metadata": {},
     "execution_count": 154
    }
   ],
   "metadata": {}
  },
  {
   "cell_type": "code",
   "execution_count": null,
   "source": [
    "X_train ,X_test, Y_train , Y_test = train_test_split(X_fdf , Y_fdf , test_size = 0.3 , random_state =34)\r\n",
    "# Training set\r\n",
    "X_train.shape , Y_train.shape"
   ],
   "outputs": [
    {
     "output_type": "execute_result",
     "data": {
      "text/plain": [
       "((27302, 67), (27302,))"
      ]
     },
     "metadata": {},
     "execution_count": 155
    }
   ],
   "metadata": {}
  },
  {
   "cell_type": "code",
   "execution_count": null,
   "source": [
    "#Modelling\r\n",
    "# RMSE\r\n",
    "def rmse(y_test,y_pred):\r\n",
    "      return np.sqrt(mean_squared_error(y_test,y_pred))\r\n",
    "\r\n"
   ],
   "outputs": [],
   "metadata": {}
  },
  {
   "cell_type": "code",
   "execution_count": null,
   "source": [
    "#Linear Regression\r\n",
    "linreg = LinearRegression()\r\n",
    "linreg.fit(X_train, Y_train)\r\n",
    "Y_pred_lin = linreg.predict(X_test)\r\n",
    "rmse(Y_test,Y_pred_lin)\r\n",
    "\r\n"
   ],
   "outputs": [
    {
     "output_type": "execute_result",
     "data": {
      "text/plain": [
       "149825578.8414456"
      ]
     },
     "metadata": {},
     "execution_count": 157
    }
   ],
   "metadata": {}
  },
  {
   "cell_type": "code",
   "execution_count": null,
   "source": [
    "#Lasso Regression\r\n",
    "alpha=0.00099\r\n",
    "lasso_regr=Lasso(alpha=alpha,max_iter=50000)\r\n",
    "lasso_regr.fit(X_train, Y_train)\r\n",
    "Y_pred_lasso=lasso_regr.predict(X_test)\r\n",
    "rmse(Y_test,Y_pred_lasso)\r\n"
   ],
   "outputs": [
    {
     "output_type": "execute_result",
     "data": {
      "text/plain": [
       "0.7790791587756591"
      ]
     },
     "metadata": {},
     "execution_count": 158
    }
   ],
   "metadata": {}
  },
  {
   "cell_type": "code",
   "execution_count": null,
   "source": [
    "\r\n",
    "#Ridge Regression\r\n",
    "ridge = Ridge(alpha=0.01, normalize=True)\r\n",
    "ridge.fit(X_train, Y_train)\r\n",
    "Y_pred_ridge = ridge.predict(X_test)\r\n",
    "rmse(Y_test,Y_pred_ridge)\r\n",
    "\r\n"
   ],
   "outputs": [
    {
     "output_type": "execute_result",
     "data": {
      "text/plain": [
       "0.7729312730940144"
      ]
     },
     "metadata": {},
     "execution_count": 159
    }
   ],
   "metadata": {}
  },
  {
   "cell_type": "code",
   "execution_count": null,
   "source": [
    "#RandomForest Regressor\r\n",
    "rf_regr = RandomForestRegressor()\r\n",
    "rf_regr.fit(X_train, Y_train)\r\n",
    "Y_pred_rf = rf_regr.predict(X_test)\r\n",
    "rmse(Y_test,Y_pred_rf)"
   ],
   "outputs": [
    {
     "output_type": "execute_result",
     "data": {
      "text/plain": [
       "0.5608189114520481"
      ]
     },
     "metadata": {},
     "execution_count": 160
    }
   ],
   "metadata": {}
  },
  {
   "cell_type": "code",
   "execution_count": null,
   "source": [
    "r2_score(Y_test, Y_pred_lin)\r\n"
   ],
   "outputs": [
    {
     "output_type": "execute_result",
     "data": {
      "text/plain": [
       "-2.2628538728640144e+16"
      ]
     },
     "metadata": {},
     "execution_count": 161
    }
   ],
   "metadata": {}
  },
  {
   "cell_type": "code",
   "execution_count": null,
   "source": [
    "r2_score(Y_test, Y_pred_lasso)\r\n"
   ],
   "outputs": [
    {
     "output_type": "execute_result",
     "data": {
      "text/plain": [
       "0.3881460691968547"
      ]
     },
     "metadata": {},
     "execution_count": 162
    }
   ],
   "metadata": {}
  },
  {
   "cell_type": "code",
   "execution_count": null,
   "source": [
    "r2_score(Y_test, Y_pred_ridge)\r\n"
   ],
   "outputs": [
    {
     "output_type": "execute_result",
     "data": {
      "text/plain": [
       "0.39776451717731054"
      ]
     },
     "metadata": {},
     "execution_count": 163
    }
   ],
   "metadata": {}
  },
  {
   "cell_type": "code",
   "execution_count": null,
   "source": [
    "r2_score(Y_test, Y_pred_rf)"
   ],
   "outputs": [
    {
     "output_type": "execute_result",
     "data": {
      "text/plain": [
       "0.6829484494995228"
      ]
     },
     "metadata": {},
     "execution_count": 164
    }
   ],
   "metadata": {}
  }
 ],
 "metadata": {
  "orig_nbformat": 4,
  "language_info": {
   "name": "python",
   "version": "3.8.8",
   "mimetype": "text/x-python",
   "codemirror_mode": {
    "name": "ipython",
    "version": 3
   },
   "pygments_lexer": "ipython3",
   "nbconvert_exporter": "python",
   "file_extension": ".py"
  },
  "kernelspec": {
   "name": "python3",
   "display_name": "Python 3.8.8 64-bit ('base': conda)"
  },
  "interpreter": {
   "hash": "f9f4e67f67f0ebf348231506f65f8a9c444787f2178ace089b8d88c1a6fc4ba4"
  }
 },
 "nbformat": 4,
 "nbformat_minor": 2
}