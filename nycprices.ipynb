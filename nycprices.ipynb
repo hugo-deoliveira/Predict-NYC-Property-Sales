{
 "cells": [
  {
   "cell_type": "code",
   "execution_count": null,
   "source": [],
   "outputs": [],
   "metadata": {}
  }
 ],
 "metadata": {
  "orig_nbformat": 4,
  "language_info": {
   "name": "python",
   "version": "3.8.8"
  },
  "kernelspec": {
   "name": "python3",
   "display_name": "Python 3.8.8 64-bit ('base': conda)"
  },
  "interpreter": {
   "hash": "f9f4e67f67f0ebf348231506f65f8a9c444787f2178ace089b8d88c1a6fc4ba4"
  }
 },
 "nbformat": 4,
 "nbformat_minor": 2
}